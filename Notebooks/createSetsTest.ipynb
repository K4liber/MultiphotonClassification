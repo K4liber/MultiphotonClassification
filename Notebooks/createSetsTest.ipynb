{
 "cells": [
  {
   "cell_type": "code",
   "execution_count": 46,
   "metadata": {},
   "outputs": [],
   "source": [
    "import dask.dataframe as dd\n",
    "import pandas as pd\n",
    "import sys\n",
    "import pickle\n",
    "from sklearn.model_selection import train_test_split\n",
    "\n",
    "def dataFrameNames():\n",
    "    return [\n",
    "        \"x1\",     # 1 gamma detected x position [cm]\n",
    "        \"y1\",     # 1 gamma detected y position [cm]\n",
    "        \"z1\",     # 1 gamma detected z position [cm]\n",
    "        \"t1\",     # 1 gamma detection time [ps]\n",
    "        \"x2\",     # 2 gamma detected x position [cm]\n",
    "        \"y2\",     # 2 gamma detected y position [cm]\n",
    "        \"z2\",     # 2 gamma detected z position [cm]\n",
    "        \"t2\",     # 2 gamma detection time [ps]\n",
    "        \"vol1\",   # 1 gamma volume ID\n",
    "        \"vol2\",   # 2 gamma volume ID\n",
    "        \"e1\",     # 1 gamma energy loss during detection [keV]\n",
    "        \"e2\",     # 2 gamma energy loss during detection [keV]\n",
    "        \"class\",  # Type of coincidence(1-true, 2-phantom-scattered, 3-detector-scattered, 4-accidental)\n",
    "        \"sX1\",    # 1 gamma emission x position [cm]\n",
    "        \"sY1\",    # 1 gamma emission y position [cm]\n",
    "        \"sZ1\",     # 1 gamma emission z position [cm]\n",
    "        \"dt\",     # Detection times difference\n",
    "        \"rX1\",    # Reconstruction point - X cord\n",
    "        \"rY1\",    # Reconstruction point - Y cord\n",
    "        \"rZ1\",    # Reconstruction point - Z cord\n",
    "        \"rError\", # Difference beetwen source point and recontructed point\n",
    "        \"volD\",   # Volumes indexes difference\n",
    "        \"lorL\",   # LOR length\n",
    "        \"deg3D\",  # Angle beetwen lines (in XYZ geometry) connecting detection points with the center of detector\n",
    "        \"deg2D\",  # Angle beetwen lines (in XY geometry) connecting detection points with the center of detector\n",
    "        \"rL\",     # Distance beetween reconstructed point and the center of detector\n",
    "        \"eSum\"    # Sum of the detecions energies\n",
    "    ] "
   ]
  },
  {
   "cell_type": "code",
   "execution_count": 47,
   "metadata": {},
   "outputs": [],
   "source": [
    "def createLearningBatches(filePath, size):\n",
    "    df = pd.DataFrame(columns = dataFrameNames())\n",
    "    dfPart = pickle.load(open(filePath + '01', 'rb'))\n",
    "    df = df.append(dfPart)\n",
    "    codes = {1:1, 2:0, 3:0, 4:0}\n",
    "    df[\"newClass\"] = df[\"class\"].map(codes)\n",
    "    x = df.drop([\"t1\", \"t2\", \"sX1\", \"sY1\", \"sZ1\", \"class\", \"rError\", \"newClass\"], axis = 1)\n",
    "    y = df[[\"class\", \"newClass\"]]\n",
    "    xTrain, xTest, yTrain, yTest = train_test_split(x, y, test_size = 0.2, train_size = 0.8, random_state = 42, stratify = y)\n",
    "    print(\"Batches created successfully!\")\n",
    "    return df, xTrain, xTest, yTrain, yTest"
   ]
  },
  {
   "cell_type": "code",
   "execution_count": 48,
   "metadata": {},
   "outputs": [],
   "source": [
    "dataSize = 190000000\n",
    "directory = '/mnt/home/jbielecki1/NEMA/'\n",
    "fileName = 'NEMA_IQ_384str_N0_1000_COINCIDENCES_PREPARED_part'"
   ]
  },
  {
   "cell_type": "code",
   "execution_count": 49,
   "metadata": {},
   "outputs": [
    {
     "name": "stdout",
     "output_type": "stream",
     "text": [
      "Batches created successfully!\n"
     ]
    }
   ],
   "source": [
    "df, xTrain, xTest, yTrain, yTest = createLearningBatches(directory + fileName, dataSize)"
   ]
  },
  {
   "cell_type": "code",
   "execution_count": 50,
   "metadata": {},
   "outputs": [
    {
     "data": {
      "text/plain": [
       "False"
      ]
     },
     "execution_count": 50,
     "metadata": {},
     "output_type": "execute_result"
    }
   ],
   "source": [
    "df.isnull().values.any()\n",
    "# df.dropna(inplace = True)"
   ]
  },
  {
   "cell_type": "code",
   "execution_count": 44,
   "metadata": {},
   "outputs": [
    {
     "data": {
      "text/html": [
       "<div>\n",
       "<style scoped>\n",
       "    .dataframe tbody tr th:only-of-type {\n",
       "        vertical-align: middle;\n",
       "    }\n",
       "\n",
       "    .dataframe tbody tr th {\n",
       "        vertical-align: top;\n",
       "    }\n",
       "\n",
       "    .dataframe thead th {\n",
       "        text-align: right;\n",
       "    }\n",
       "</style>\n",
       "<table border=\"1\" class=\"dataframe\">\n",
       "  <thead>\n",
       "    <tr style=\"text-align: right;\">\n",
       "      <th></th>\n",
       "      <th>rX1</th>\n",
       "      <th>rY1</th>\n",
       "      <th>rZ1</th>\n",
       "      <th>sX1</th>\n",
       "      <th>sY1</th>\n",
       "      <th>sZ1</th>\n",
       "      <th>sZ1dt</th>\n",
       "      <th>t1</th>\n",
       "      <th>t2</th>\n",
       "      <th>vol1</th>\n",
       "    </tr>\n",
       "  </thead>\n",
       "  <tbody>\n",
       "    <tr>\n",
       "      <th>1</th>\n",
       "      <td>False</td>\n",
       "      <td>False</td>\n",
       "      <td>False</td>\n",
       "      <td>False</td>\n",
       "      <td>False</td>\n",
       "      <td>False</td>\n",
       "      <td>True</td>\n",
       "      <td>False</td>\n",
       "      <td>False</td>\n",
       "      <td>False</td>\n",
       "    </tr>\n",
       "  </tbody>\n",
       "</table>\n",
       "</div>"
      ],
      "text/plain": [
       "     rX1    rY1    rZ1    sX1    sY1    sZ1  sZ1dt     t1     t2   vol1\n",
       "1  False  False  False  False  False  False   True  False  False  False"
      ]
     },
     "execution_count": 44,
     "metadata": {},
     "output_type": "execute_result"
    }
   ],
   "source": [
    "df.iloc[[1], 10:20].isnull()"
   ]
  },
  {
   "cell_type": "code",
   "execution_count": 45,
   "metadata": {},
   "outputs": [
    {
     "name": "stderr",
     "output_type": "stream",
     "text": [
      "/mnt/home/jbielecki1/.local/lib/python3.6/site-packages/ipykernel_launcher.py:1: FutureWarning: get_value is deprecated and will be removed in a future release. Please use .at[] or .iat[] accessors instead\n",
      "  \"\"\"Entry point for launching an IPython kernel.\n"
     ]
    },
    {
     "data": {
      "text/plain": [
       "66.0"
      ]
     },
     "execution_count": 45,
     "metadata": {},
     "output_type": "execute_result"
    }
   ],
   "source": [
    "df.get_value(1, 'vol1')"
   ]
  },
  {
   "cell_type": "code",
   "execution_count": null,
   "metadata": {},
   "outputs": [],
   "source": []
  }
 ],
 "metadata": {
  "kernelspec": {
   "display_name": "Python 3",
   "language": "python",
   "name": "python3"
  },
  "language_info": {
   "codemirror_mode": {
    "name": "ipython",
    "version": 3
   },
   "file_extension": ".py",
   "mimetype": "text/x-python",
   "name": "python",
   "nbconvert_exporter": "python",
   "pygments_lexer": "ipython3",
   "version": "3.6.7"
  }
 },
 "nbformat": 4,
 "nbformat_minor": 2
}
