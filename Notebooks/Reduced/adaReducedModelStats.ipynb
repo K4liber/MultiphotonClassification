{
 "cells": [
  {
   "cell_type": "code",
   "execution_count": 1,
   "metadata": {},
   "outputs": [],
   "source": [
    "import pickle\n",
    "from sklearn.metrics import accuracy_score\n",
    "import numpy as np\n",
    "import matplotlib.pyplot as plt\n",
    "from sklearn.metrics import confusion_matrix\n",
    "import itertools\n",
    "import pandas as pd"
   ]
  },
  {
   "cell_type": "code",
   "execution_count": 2,
   "metadata": {},
   "outputs": [],
   "source": [
    "directory = '/mnt/home/jbielecki1/NEMA/10000000/'\n",
    "modelFileName = 'ADA/adaEstimatorsReduced500Depth5'\n",
    "max_depth = 5"
   ]
  },
  {
   "cell_type": "code",
   "execution_count": 3,
   "metadata": {},
   "outputs": [],
   "source": [
    "model = pickle.load(open(directory + modelFileName, 'rb'))"
   ]
  },
  {
   "cell_type": "code",
   "execution_count": 6,
   "metadata": {},
   "outputs": [],
   "source": [
    "attributes = [\n",
    "    'e1',\n",
    "    'e2',\n",
    "    'eSum',\n",
    "    'deg2D',\n",
    "    'deg3D',\n",
    "    'lorL',\n",
    "    'dt'\n",
    "]\n",
    "X_test = pickle.load(open(directory + 'xTest', 'rb'))[attributes]\n",
    "y_test = pickle.load(open(directory + 'yTest', 'rb'))"
   ]
  },
  {
   "cell_type": "code",
   "execution_count": 7,
   "metadata": {},
   "outputs": [],
   "source": [
    "y_pred_prob = model.predict_proba(X_test)[:,1]\n",
    "y_pred = y_pred_prob > 0.5"
   ]
  },
  {
   "cell_type": "code",
   "execution_count": 8,
   "metadata": {},
   "outputs": [],
   "source": [
    "class_test = y_test[[\"class\"]].values\n",
    "y_test = y_test[['newClass']].values"
   ]
  },
  {
   "cell_type": "code",
   "execution_count": 9,
   "metadata": {},
   "outputs": [
    {
     "name": "stdout",
     "output_type": "stream",
     "text": [
      "Accuracy: 85.68205%\n"
     ]
    }
   ],
   "source": [
    "print(\"Accuracy: \" + str(accuracy_score(y_pred, np.array(y_test))*100) + \"%\")"
   ]
  },
  {
   "cell_type": "code",
   "execution_count": 10,
   "metadata": {},
   "outputs": [],
   "source": [
    "def plotFeatureImportances(features, importances, modelName):\n",
    "    y_pos = np.arange(features.size)\n",
    "    plt.clf()\n",
    "    indexes = np.argsort(importances)\n",
    "    plt.title(\"Feature importances - \" + modelName)\n",
    "    plt.barh(y_pos, np.sort(importances))\n",
    "    plt.yticks(y_pos, features[indexes])\n",
    "    plt.xlabel('F score')\n",
    "    plt.ylabel(\"Feature\")\n",
    "    plt.show()"
   ]
  },
  {
   "cell_type": "code",
   "execution_count": 11,
   "metadata": {},
   "outputs": [
    {
     "data": {
      "image/png": "[encoded data removed]",
      "text/plain": [
       "<Figure size 432x288 with 1 Axes>"
      ]
     },
     "metadata": {
      "needs_background": "light"
     },
     "output_type": "display_data"
    }
   ],
   "source": [
    "plotFeatureImportances(X_test.columns, model.feature_importances_, 'ADA (max_dept = ' + str(max_depth) + ')')"
   ]
  },
  {
   "cell_type": "code",
   "execution_count": 12,
   "metadata": {},
   "outputs": [],
   "source": [
    "pPsOrginalPositive = X_test[y_test > 0]\n",
    "pPsOrginalNegative = X_test[y_test == 0]\n",
    "pPsPredictedPositive = X_test[y_pred]\n",
    "pPsPredictedNegative = X_test[y_pred == 0]"
   ]
  },
  {
   "cell_type": "code",
   "execution_count": 13,
   "metadata": {},
   "outputs": [],
   "source": [
    "FP = len(pd.merge(pPsPredictedPositive,pPsOrginalNegative, how='inner'))\n",
    "TP = len(pd.merge(pPsPredictedPositive,pPsOrginalPositive, how='inner'))\n",
    "TN = len(pd.merge(pPsPredictedNegative,pPsOrginalNegative, how='inner'))\n",
    "FN = len(pd.merge(pPsPredictedNegative,pPsOrginalPositive, how='inner'))"
   ]
  },
  {
   "cell_type": "code",
   "execution_count": 14,
   "metadata": {},
   "outputs": [
    {
     "name": "stdout",
     "output_type": "stream",
     "text": [
      "Negative events (starting point of accuracy): 70.79915%\n",
      "Accuracy: 85.68205%\n",
      "Recall: 92.49234183251515%\n",
      "Selectivity: 82.87317008749399%\n",
      "Precision: 69.01520920320333%\n",
      "Backgroung acceptance: 17.12682991250601%\n"
     ]
    }
   ],
   "source": [
    "ACC = (TP + TN)/len(X_test) # accuracy\n",
    "TPR = TP/(TP + FN) # recall\n",
    "TNR = TN/(TN + FP) # selectivity\n",
    "PPV = TP/(TP + FP) # precision\n",
    "FPR = FP/(FP + TN) # background acceptance\n",
    "\n",
    "print(\"Negative events (starting point of accuracy): \" + str(len(y_test[y_test != 1])/len(y_test)*100.0) + \"%\")\n",
    "print(\"Accuracy: \" + str(ACC*100) + \"%\")\n",
    "print(\"Recall: \" + str(TPR*100) + \"%\")\n",
    "print(\"Selectivity: \" + str(TNR*100) + \"%\")\n",
    "print(\"Precision: \" + str(PPV*100) + \"%\")\n",
    "print(\"Backgroung acceptance: \" + str(FPR*100) + \"%\")"
   ]
  },
  {
   "cell_type": "code",
   "execution_count": 15,
   "metadata": {},
   "outputs": [],
   "source": [
    "X_test_class_1 = X_test[class_test == 1]\n",
    "X_test_class_2 = X_test[class_test == 2]\n",
    "X_test_class_3 = X_test[class_test == 3]\n",
    "X_test_class_4 = X_test[class_test == 4]\n",
    "X_test_pred_1 = X_test[y_pred == 1]\n",
    "X_test_pred_0 = X_test[y_pred == 0]"
   ]
  },
  {
   "cell_type": "code",
   "execution_count": 16,
   "metadata": {},
   "outputs": [
    {
     "name": "stdout",
     "output_type": "stream",
     "text": [
      "Percentage of 1 class probes: 29.2%\n",
      "Percentage of 2 class probes: 19.07%\n",
      "Percentage of 3 class probes: 1.92%\n",
      "Percentage of 4 class probes: 49.8%\n"
     ]
    }
   ],
   "source": [
    "print(\"Percentage of 1 class probes: \" + str(round(len(X_test_class_1)/len(X_test)*100,2))+ \"%\")\n",
    "print(\"Percentage of 2 class probes: \" + str(round(len(X_test_class_2)/len(X_test)*100,2))+ \"%\")\n",
    "print(\"Percentage of 3 class probes: \" + str(round(len(X_test_class_3)/len(X_test)*100,2))+ \"%\")\n",
    "print(\"Percentage of 4 class probes: \" + str(round(len(X_test_class_4)/len(X_test)*100,2))+ \"%\")"
   ]
  },
  {
   "cell_type": "code",
   "execution_count": null,
   "metadata": {},
   "outputs": [],
   "source": []
  }
 ],
 "metadata": {
  "kernelspec": {
   "display_name": "Python 3",
   "language": "python",
   "name": "python3"
  },
  "language_info": {
   "codemirror_mode": {
    "name": "ipython",
    "version": 3
   },
   "file_extension": ".py",
   "mimetype": "text/x-python",
   "name": "python",
   "nbconvert_exporter": "python",
   "pygments_lexer": "ipython3",
   "version": "3.6.7"
  }
 },
 "nbformat": 4,
 "nbformat_minor": 2
}
