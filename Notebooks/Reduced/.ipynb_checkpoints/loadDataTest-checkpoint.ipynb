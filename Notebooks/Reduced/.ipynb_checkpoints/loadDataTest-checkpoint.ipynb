{
 "cells": [
  {
   "cell_type": "code",
   "execution_count": 1,
   "metadata": {},
   "outputs": [
    {
     "name": "stderr",
     "output_type": "stream",
     "text": [
      "/mnt/home/jbielecki1/.local/lib/python3.6/site-packages/dask/config.py:168: YAMLLoadWarning: calling yaml.load() without Loader=... is deprecated, as the default Loader is unsafe. Please read https://msg.pyyaml.org/load for full details.\n",
      "  data = yaml.load(f.read()) or {}\n"
     ]
    }
   ],
   "source": [
    "from sklearn.ensemble import AdaBoostClassifier\n",
    "from sklearn.tree import DecisionTreeClassifier\n",
    "import pickle\n",
    "import matplotlib.pyplot as plt\n",
    "from sklearn.metrics import accuracy_score\n",
    "import sys\n",
    "import dask.dataframe as dd\n",
    "import numpy as np\n",
    "import os"
   ]
  },
  {
   "cell_type": "code",
   "execution_count": 18,
   "metadata": {},
   "outputs": [],
   "source": [
    "directory = '/mnt/home/jbielecki1/NEMA/' + str(10000000) + \"/\"\n",
    "\n",
    "attributes = [\n",
    "    'e1',\n",
    "    'e2',\n",
    "    'eSum',\n",
    "    'deg2D',\n",
    "    'deg3D',\n",
    "    'lorL',\n",
    "    'dt'\n",
    "]"
   ]
  },
  {
   "cell_type": "code",
   "execution_count": 19,
   "metadata": {},
   "outputs": [],
   "source": [
    "def loadReducedData(attributes):\n",
    "    global X_train, X_test, y_train, y_test, class_test, class_train\n",
    "    X_train = dd.from_pandas(pickle.load(open(directory + 'xTrain', 'rb')), npartitions = 10)\n",
    "    X_test = dd.from_pandas(pickle.load(open(directory + 'xTest', 'rb')), npartitions = 10)\n",
    "\n",
    "    X_train = X_train[attributes]\n",
    "    X_test = X_test[attributes]\n",
    "\n",
    "    y_train = dd.from_pandas(pickle.load(open(directory + 'yTrain', 'rb')), npartitions = 10)\n",
    "    y_test = dd.from_pandas(pickle.load(open(directory + 'yTest', 'rb')), npartitions = 10)\n",
    "    class_test = y_test[[\"class\"]].to_dask_array()\n",
    "    class_train = y_train[[\"class\"]].to_dask_array()\n",
    "    y_train = y_train[['newClass']].to_dask_array()\n",
    "    y_test = y_test[['newClass']].to_dask_array()"
   ]
  },
  {
   "cell_type": "code",
   "execution_count": 20,
   "metadata": {},
   "outputs": [],
   "source": [
    "loadReducedData(attributes)"
   ]
  },
  {
   "cell_type": "code",
   "execution_count": 17,
   "metadata": {},
   "outputs": [
    {
     "name": "stdout",
     "output_type": "stream",
     "text": [
      "Dask DataFrame Structure:\n",
      "                   vol1     vol2     volD       x1       x2       y1       y2       z1       z2       rL      rY1      rZ1      rX1\n",
      "npartitions=10                                                                                                                     \n",
      "0               float64  float64  float64  float64  float64  float64  float64  float64  float64  float64  float64  float64  float64\n",
      "999680              ...      ...      ...      ...      ...      ...      ...      ...      ...      ...      ...      ...      ...\n",
      "...                 ...      ...      ...      ...      ...      ...      ...      ...      ...      ...      ...      ...      ...\n",
      "8999618             ...      ...      ...      ...      ...      ...      ...      ...      ...      ...      ...      ...      ...\n",
      "9999999             ...      ...      ...      ...      ...      ...      ...      ...      ...      ...      ...      ...      ...\n",
      "Dask Name: getitem, 20 tasks\n"
     ]
    }
   ],
   "source": [
    "print(X_train.head())"
   ]
  },
  {
   "cell_type": "code",
   "execution_count": null,
   "metadata": {},
   "outputs": [],
   "source": []
  }
 ],
 "metadata": {
  "kernelspec": {
   "display_name": "Python 3",
   "language": "python",
   "name": "python3"
  },
  "language_info": {
   "codemirror_mode": {
    "name": "ipython",
    "version": 3
   },
   "file_extension": ".py",
   "mimetype": "text/x-python",
   "name": "python",
   "nbconvert_exporter": "python",
   "pygments_lexer": "ipython3",
   "version": "3.6.7"
  }
 },
 "nbformat": 4,
 "nbformat_minor": 2
}
