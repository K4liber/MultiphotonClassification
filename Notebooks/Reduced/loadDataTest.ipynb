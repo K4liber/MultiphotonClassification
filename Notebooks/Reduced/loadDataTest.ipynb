{
 "cells": [
  {
   "cell_type": "code",
   "execution_count": 1,
   "metadata": {},
   "outputs": [
    {
     "name": "stderr",
     "output_type": "stream",
     "text": [
      "/mnt/home/jbielecki1/.local/lib/python3.6/site-packages/dask/config.py:168: YAMLLoadWarning: calling yaml.load() without Loader=... is deprecated, as the default Loader is unsafe. Please read https://msg.pyyaml.org/load for full details.\n",
      "  data = yaml.load(f.read()) or {}\n"
     ]
    }
   ],
   "source": [
    "from sklearn.ensemble import AdaBoostClassifier\n",
    "from sklearn.tree import DecisionTreeClassifier\n",
    "import pickle\n",
    "import matplotlib.pyplot as plt\n",
    "from sklearn.metrics import accuracy_score\n",
    "import sys\n",
    "import dask.dataframe as dd\n",
    "import numpy as np\n",
    "import os"
   ]
  },
  {
   "cell_type": "code",
   "execution_count": 18,
   "metadata": {},
   "outputs": [],
   "source": [
    "directory = '/mnt/home/jbielecki1/NEMA/' + str(10000000) + \"/\"\n",
    "\n",
    "attributes = [\n",
    "    'e1',\n",
    "    'e2',\n",
    "    'eSum',\n",
    "    'deg2D',\n",
    "    'deg3D',\n",
    "    'lorL',\n",
    "    'dt'\n",
    "]"
   ]
  },
  {
   "cell_type": "code",
   "execution_count": 19,
   "metadata": {},
   "outputs": [],
   "source": [
    "def loadReducedData(attributes):\n",
    "    global X_train, X_test, y_train, y_test, class_test, class_train\n",
    "    X_train = dd.from_pandas(pickle.load(open(directory + 'xTrain', 'rb')), npartitions = 10)\n",
    "    X_test = dd.from_pandas(pickle.load(open(directory + 'xTest', 'rb')), npartitions = 10)\n",
    "\n",
    "    X_train = X_train[attributes]\n",
    "    X_test = X_test[attributes]\n",
    "\n",
    "    y_train = dd.from_pandas(pickle.load(open(directory + 'yTrain', 'rb')), npartitions = 10)\n",
    "    y_test = dd.from_pandas(pickle.load(open(directory + 'yTest', 'rb')), npartitions = 10)\n",
    "    class_test = y_test[[\"class\"]].to_dask_array()\n",
    "    class_train = y_train[[\"class\"]].to_dask_array()\n",
    "    y_train = y_train[['newClass']].to_dask_array()\n",
    "    y_test = y_test[['newClass']].to_dask_array()"
   ]
  },
  {
   "cell_type": "code",
   "execution_count": 20,
   "metadata": {},
   "outputs": [],
   "source": [
    "loadReducedData(attributes)"
   ]
  },
  {
   "cell_type": "code",
   "execution_count": 21,
   "metadata": {},
   "outputs": [
    {
     "name": "stdout",
     "output_type": "stream",
     "text": [
      "       e1      e2    eSum       deg2D       deg3D       lorL        dt\n",
      "0  231.87  331.12  562.99  168.370309  161.444181  93.140418    -907.0\n",
      "1  233.15  232.03  465.18   63.012432   62.741646  45.891757   22452.6\n",
      "2  205.83  318.87  524.70  160.926824  157.031654  92.935872     700.4\n",
      "3  289.64  269.32  558.96  156.737757  154.905029  92.185269     122.7\n",
      "4  272.69  319.39  592.08  134.092077  126.978063  82.032974  107058.0\n"
     ]
    }
   ],
   "source": [
    "print(X_train.head())"
   ]
  },
  {
   "cell_type": "code",
   "execution_count": null,
   "metadata": {},
   "outputs": [],
   "source": []
  }
 ],
 "metadata": {
  "kernelspec": {
   "display_name": "Python 3",
   "language": "python",
   "name": "python3"
  },
  "language_info": {
   "codemirror_mode": {
    "name": "ipython",
    "version": 3
   },
   "file_extension": ".py",
   "mimetype": "text/x-python",
   "name": "python",
   "nbconvert_exporter": "python",
   "pygments_lexer": "ipython3",
   "version": "3.6.7"
  }
 },
 "nbformat": 4,
 "nbformat_minor": 2
}
