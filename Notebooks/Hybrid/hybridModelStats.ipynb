{
 "cells": [
  {
   "cell_type": "code",
   "execution_count": 1,
   "metadata": {},
   "outputs": [],
   "source": [
    "import pickle\n",
    "from sklearn.metrics import accuracy_score\n",
    "import numpy as np\n",
    "import matplotlib.pyplot as plt\n",
    "from sklearn.metrics import confusion_matrix\n",
    "import itertools\n",
    "import pandas as pd"
   ]
  },
  {
   "cell_type": "code",
   "execution_count": 2,
   "metadata": {},
   "outputs": [],
   "source": [
    "directory = '/mnt/home/jbielecki1/NEMA/cut_parts4/'\n",
    "modelFileName = 'ADA/adaEstimators1000Depth6'\n",
    "max_depth = 2"
   ]
  },
  {
   "cell_type": "code",
   "execution_count": 3,
   "metadata": {},
   "outputs": [],
   "source": [
    "model = pickle.load(open(directory + modelFileName, 'rb'))"
   ]
  },
  {
   "cell_type": "code",
   "execution_count": 4,
   "metadata": {},
   "outputs": [],
   "source": [
    "X_test = pickle.load(open(directory + 'xTest', 'rb'))\n",
    "y_test = pickle.load(open(directory + 'yTest', 'rb'))"
   ]
  },
  {
   "cell_type": "code",
   "execution_count": 5,
   "metadata": {},
   "outputs": [],
   "source": [
    "y_pred_prob = model.predict_proba(X_test)[:,1]"
   ]
  },
  {
   "cell_type": "code",
   "execution_count": 6,
   "metadata": {},
   "outputs": [],
   "source": [
    "y_pred = y_pred_prob > 0.5"
   ]
  },
  {
   "cell_type": "code",
   "execution_count": 7,
   "metadata": {},
   "outputs": [],
   "source": [
    "class_test = y_test[[\"class\"]].values\n",
    "y_test = y_test[['newClass']].values"
   ]
  },
  {
   "cell_type": "code",
   "execution_count": 8,
   "metadata": {},
   "outputs": [
    {
     "name": "stdout",
     "output_type": "stream",
     "text": [
      "Accuracy: 73.54728731874931%\n"
     ]
    }
   ],
   "source": [
    "print(\"Accuracy: \" + str(accuracy_score(y_pred, np.array(y_test))*100) + \"%\")"
   ]
  },
  {
   "cell_type": "code",
   "execution_count": 8,
   "metadata": {},
   "outputs": [],
   "source": [
    "X_test_class_1 = X_test[class_test == 1]\n",
    "X_test_class_2 = X_test[class_test == 2]\n",
    "X_test_class_3 = X_test[class_test == 3]\n",
    "X_test_class_4 = X_test[class_test == 4]\n",
    "X_test_pred_1 = X_test[y_pred == 1]\n",
    "X_test_pred_0 = X_test[y_pred == 0]"
   ]
  },
  {
   "cell_type": "code",
   "execution_count": 10,
   "metadata": {},
   "outputs": [
    {
     "name": "stdout",
     "output_type": "stream",
     "text": [
      "Percentage of 1 class probes: 67.58%\n",
      "Percentage of 2 class probes: 25.14%\n",
      "Percentage of 3 class probes: 4.44%\n",
      "Percentage of 4 class probes: 2.84%\n"
     ]
    }
   ],
   "source": [
    "print(\"Percentage of 1 class probes: \" + str(round(len(X_test_class_1)/len(X_test)*100,2))+ \"%\")\n",
    "print(\"Percentage of 2 class probes: \" + str(round(len(X_test_class_2)/len(X_test)*100,2))+ \"%\")\n",
    "print(\"Percentage of 3 class probes: \" + str(round(len(X_test_class_3)/len(X_test)*100,2))+ \"%\")\n",
    "print(\"Percentage of 4 class probes: \" + str(round(len(X_test_class_4)/len(X_test)*100,2))+ \"%\")"
   ]
  },
  {
   "cell_type": "code",
   "execution_count": 11,
   "metadata": {},
   "outputs": [],
   "source": [
    "def plotFeatureImportances(features, importances, modelName):\n",
    "    y_pos = np.arange(features.size)\n",
    "    plt.clf()\n",
    "    indexes = np.argsort(importances)\n",
    "    plt.title(\"Feature importances - \" + modelName)\n",
    "    plt.barh(y_pos, np.sort(importances))\n",
    "    plt.yticks(y_pos, features[indexes])\n",
    "    plt.xlabel('F score')\n",
    "    plt.ylabel(\"Feature\")\n",
    "    plt.show()"
   ]
  },
  {
   "cell_type": "code",
   "execution_count": 13,
   "metadata": {},
   "outputs": [
    {
     "data": {
      "image/png": "[encoded data removed]",
      "text/plain": [
       "<Figure size 432x288 with 1 Axes>"
      ]
     },
     "metadata": {
      "needs_background": "light"
     },
     "output_type": "display_data"
    }
   ],
   "source": [
    "plotFeatureImportances(X_test.columns, model.feature_importances_, 'Hybrid (max_dept = ' + str(max_depth) + ')')"
   ]
  },
  {
   "cell_type": "code",
   "execution_count": 9,
   "metadata": {},
   "outputs": [],
   "source": [
    "pPsOrginalPositive = X_test[y_test > 0]\n",
    "pPsOrginalNegative = X_test[y_test == 0]\n",
    "pPsPredictedPositive = X_test[y_pred]\n",
    "pPsPredictedNegative = X_test[y_pred == 0]"
   ]
  },
  {
   "cell_type": "code",
   "execution_count": 10,
   "metadata": {},
   "outputs": [],
   "source": [
    "FP = len(pd.merge(pPsPredictedPositive,pPsOrginalNegative, how='inner'))\n",
    "TP = len(pd.merge(pPsPredictedPositive,pPsOrginalPositive, how='inner'))\n",
    "TN = len(pd.merge(pPsPredictedNegative,pPsOrginalNegative, how='inner'))\n",
    "FN = len(pd.merge(pPsPredictedNegative,pPsOrginalPositive, how='inner'))"
   ]
  },
  {
   "cell_type": "code",
   "execution_count": 12,
   "metadata": {},
   "outputs": [],
   "source": [
    "X = 8000000\n",
    "F_ALL = 0.7082\n",
    "T_ALL = 0.2918\n",
    "TNR_CUT = 0.8031\n",
    "TPR_CUT = 0.9948\n",
    "TP_H = TP\n",
    "FP_H = FP\n",
    "TN_CUT = TNR_CUT * F_ALL * X\n",
    "FN_CUT = (1.0 - TPR_CUT) * T_ALL * X\n",
    "TN_H = TN + TN_CUT\n",
    "FN_H = FN + FN_CUT"
   ]
  },
  {
   "cell_type": "code",
   "execution_count": 13,
   "metadata": {},
   "outputs": [
    {
     "name": "stdout",
     "output_type": "stream",
     "text": [
      "3435754\n",
      "4562182.240000001\n",
      "3437251.2\n"
     ]
    }
   ],
   "source": [
    "print(str(len(X_test)))\n",
    "print(str((TN_CUT + FN_CUT)))\n",
    "print(str(F_ALL*8000000*0.1968 + TPR_CUT*T_ALL*8000000))"
   ]
  },
  {
   "cell_type": "code",
   "execution_count": 14,
   "metadata": {},
   "outputs": [
    {
     "name": "stdout",
     "output_type": "stream",
     "text": [
      "TP_H: 2230127\n",
      "FP_H: 815730\n",
      "TN_CUT: 4550043.360000001\n",
      "FN_CUT: 12138.87999999996\n",
      "TN_H: 4847672.360000001\n",
      "FN_H: 104406.87999999996\n",
      "TN_CUT + FN_CUT: 4562182.240000001\n"
     ]
    }
   ],
   "source": [
    "print(\"TP_H: \" + str(TP_H))\n",
    "print(\"FP_H: \" + str(FP_H))\n",
    "print(\"TN_CUT: \" + str(TN_CUT))\n",
    "print(\"FN_CUT: \" + str(FN_CUT))\n",
    "print(\"TN_H: \" + str(TN_H))\n",
    "print(\"FN_H: \" + str(FN_H))\n",
    "print(\"TN_CUT + FN_CUT: \" + str(TN_CUT + FN_CUT))"
   ]
  },
  {
   "cell_type": "code",
   "execution_count": 15,
   "metadata": {},
   "outputs": [
    {
     "name": "stdout",
     "output_type": "stream",
     "text": [
      "Hybrid Accuracy: 88.49532113799398%\n",
      "Hybrid Recall: 95.52772050581679%\n",
      "Hybrid Selectivity: 85.59646749167227%\n",
      "Hybrid Precision: 73.21837499265396%\n",
      "Hybrid Backgroung acceptance: 14.403532508327729%\n",
      "7997936.240000001\n"
     ]
    }
   ],
   "source": [
    "ACC_H = (TP_H + TN_H)/(TP_H + FP_H + TN_H + FN_H) # accuracy\n",
    "TPR_H = TP_H/(TP_H + FN_H) # recall\n",
    "TNR_H = TN_H/(TN_H + FP_H) # selectivity\n",
    "PPV_H = TP_H/(TP_H + FP_H) # precision\n",
    "FPR_H = FP_H/(FP_H + TN_H) # background acceptance\n",
    "\n",
    "print(\"Hybrid Accuracy: \" + str(ACC_H*100) + \"%\")\n",
    "print(\"Hybrid Recall: \" + str(TPR_H*100) + \"%\")\n",
    "print(\"Hybrid Selectivity: \" + str(TNR_H*100) + \"%\")\n",
    "print(\"Hybrid Precision: \" + str(PPV_H*100) + \"%\")\n",
    "print(\"Hybrid Backgroung acceptance: \" + str(FPR_H*100) + \"%\")\n",
    "print(str(TP_H + FP_H + TN_H + FN_H))"
   ]
  },
  {
   "cell_type": "code",
   "execution_count": 16,
   "metadata": {},
   "outputs": [],
   "source": [
    "X_test_class_1 = X_test[class_test == 1]\n",
    "X_test_class_2 = X_test[class_test == 2]\n",
    "X_test_class_3 = X_test[class_test == 3]\n",
    "X_test_class_4 = X_test[class_test == 4]\n",
    "X_test_pred_1 = X_test[y_pred == 1]\n",
    "X_test_pred_0 = X_test[y_pred == 0]"
   ]
  },
  {
   "cell_type": "code",
   "execution_count": 17,
   "metadata": {},
   "outputs": [],
   "source": [
    "Class1 = len(X_test_class_1)\n",
    "Class2 = len(X_test_class_2)\n",
    "Class3 = len(X_test_class_3)\n",
    "Class4 = len(X_test_class_4)\n",
    "Class1P = len(pd.merge(pPsPredictedPositive,X_test_class_1, how='inner'))\n",
    "Class2P = len(pd.merge(pPsPredictedPositive,X_test_class_2, how='inner'))\n",
    "Class3P = len(pd.merge(pPsPredictedPositive,X_test_class_3, how='inner'))\n",
    "Class4P = len(pd.merge(pPsPredictedPositive,X_test_class_4, how='inner'))\n",
    "Class1N = len(pd.merge(pPsPredictedNegative,X_test_class_1, how='inner'))\n",
    "Class2N = len(pd.merge(pPsPredictedNegative,X_test_class_2, how='inner'))\n",
    "Class3N = len(pd.merge(pPsPredictedNegative,X_test_class_3, how='inner'))\n",
    "Class4N = len(pd.merge(pPsPredictedNegative,X_test_class_4, how='inner'))"
   ]
  },
  {
   "cell_type": "code",
   "execution_count": 20,
   "metadata": {},
   "outputs": [
    {
     "name": "stdout",
     "output_type": "stream",
     "text": [
      "True events (starting point of accuracy): 67.58180660150524%\n",
      "Accuracy: 73.54728731874931%\n",
      "Recall: 96.01085900919294%\n",
      "Selectivity: 26.717757403208157%\n",
      "Precision: 73.19938139653411%\n",
      "Backgroung acceptance: 73.28224259679185%\n"
     ]
    }
   ],
   "source": [
    "ACC = (TP + TN)/len(X_test) # accuracy\n",
    "TPR = TP/(TP + FN) # recall\n",
    "TNR = TN/(TN + FP) # selectivity\n",
    "PPV = TP/(TP + FP) # precision\n",
    "FPR = FP/(FP + TN) # background acceptance\n",
    "\n",
    "print(\"True events (starting point of accuracy): \" + str(len(y_test[y_test == 1])/len(y_test)*100.0) + \"%\")\n",
    "print(\"Accuracy: \" + str(ACC*100) + \"%\")\n",
    "print(\"Recall: \" + str(TPR*100) + \"%\")\n",
    "print(\"Selectivity: \" + str(TNR*100) + \"%\")\n",
    "print(\"Precision: \" + str(PPV*100) + \"%\")\n",
    "print(\"Backgroung acceptance: \" + str(FPR*100) + \"%\")"
   ]
  },
  {
   "cell_type": "code",
   "execution_count": 19,
   "metadata": {},
   "outputs": [
    {
     "name": "stdout",
     "output_type": "stream",
     "text": [
      "Class 1 accuracy: 96.01085900919294%\n",
      "Class 2 accuracy: 28.585720880467996%\n",
      "Class 3 accuracy: 10.013646622460941%\n",
      "Class 4 accuracy: 36.27152435444006%\n"
     ]
    }
   ],
   "source": [
    "Class1ACC = (Class1P)/(Class1P + Class1N)*100.0\n",
    "Class2ACC = (Class2N)/(Class2P + Class2N)*100.0\n",
    "Class3ACC = (Class3N)/(Class3P + Class3N)*100.0\n",
    "Class4ACC = (Class4N)/(Class4P + Class4N)*100.0\n",
    "\n",
    "print(\"Class 1 accuracy: \" + str(Class1ACC) + \"%\")\n",
    "print(\"Class 2 accuracy: \" + str(Class2ACC) + \"%\")\n",
    "print(\"Class 3 accuracy: \" + str(Class3ACC) + \"%\")\n",
    "print(\"Class 4 accuracy: \" + str(Class4ACC) + \"%\")"
   ]
  },
  {
   "cell_type": "code",
   "execution_count": null,
   "metadata": {},
   "outputs": [],
   "source": []
  }
 ],
 "metadata": {
  "kernelspec": {
   "display_name": "Python 3",
   "language": "python",
   "name": "python3"
  },
  "language_info": {
   "codemirror_mode": {
    "name": "ipython",
    "version": 3
   },
   "file_extension": ".py",
   "mimetype": "text/x-python",
   "name": "python",
   "nbconvert_exporter": "python",
   "pygments_lexer": "ipython3",
   "version": "3.6.7"
  }
 },
 "nbformat": 4,
 "nbformat_minor": 2
}
