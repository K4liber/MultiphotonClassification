{
 "cells": [
  {
   "cell_type": "code",
   "execution_count": 1,
   "metadata": {},
   "outputs": [],
   "source": [
    "import pickle\n",
    "import numpy as np\n",
    "import pandas as pd\n",
    "import math\n",
    "import matplotlib.pyplot as plt"
   ]
  },
  {
   "cell_type": "code",
   "execution_count": 11,
   "metadata": {},
   "outputs": [
    {
     "ename": "MemoryError",
     "evalue": "",
     "output_type": "error",
     "traceback": [
      "\u001b[0;31m---------------------------------------------------------------------------\u001b[0m",
      "\u001b[0;31mMemoryError\u001b[0m                               Traceback (most recent call last)",
      "\u001b[0;32m<ipython-input-11-2417d7e67bd6>\u001b[0m in \u001b[0;36m<module>\u001b[0;34m\u001b[0m\n\u001b[1;32m      1\u001b[0m \u001b[0mpathToFile\u001b[0m \u001b[0;34m=\u001b[0m \u001b[0;34m'/mnt/home/jbielecki1/NEMA/'\u001b[0m\u001b[0;34m\u001b[0m\u001b[0;34m\u001b[0m\u001b[0m\n\u001b[0;32m----> 2\u001b[0;31m \u001b[0mdata1\u001b[0m \u001b[0;34m=\u001b[0m \u001b[0mpickle\u001b[0m\u001b[0;34m.\u001b[0m\u001b[0mload\u001b[0m\u001b[0;34m(\u001b[0m\u001b[0mopen\u001b[0m\u001b[0;34m(\u001b[0m\u001b[0mpathToFile\u001b[0m \u001b[0;34m+\u001b[0m \u001b[0;34m'NEMA_IQ_384str_N0_1000_COINCIDENCES_PREPARED_part04'\u001b[0m\u001b[0;34m,\u001b[0m \u001b[0;34m'rb'\u001b[0m\u001b[0;34m)\u001b[0m\u001b[0;34m)\u001b[0m\u001b[0;34m\u001b[0m\u001b[0;34m\u001b[0m\u001b[0m\n\u001b[0m\u001b[1;32m      3\u001b[0m \u001b[0mdata2\u001b[0m \u001b[0;34m=\u001b[0m \u001b[0mpickle\u001b[0m\u001b[0;34m.\u001b[0m\u001b[0mload\u001b[0m\u001b[0;34m(\u001b[0m\u001b[0mopen\u001b[0m\u001b[0;34m(\u001b[0m\u001b[0mpathToFile\u001b[0m \u001b[0;34m+\u001b[0m \u001b[0;34m'NEMA_IQ_384str_N0_1000_COINCIDENCES_PREPARED_part05'\u001b[0m\u001b[0;34m,\u001b[0m \u001b[0;34m'rb'\u001b[0m\u001b[0;34m)\u001b[0m\u001b[0;34m)\u001b[0m\u001b[0;34m\u001b[0m\u001b[0;34m\u001b[0m\u001b[0m\n\u001b[1;32m      4\u001b[0m \u001b[0mdata3\u001b[0m \u001b[0;34m=\u001b[0m \u001b[0mpickle\u001b[0m\u001b[0;34m.\u001b[0m\u001b[0mload\u001b[0m\u001b[0;34m(\u001b[0m\u001b[0mopen\u001b[0m\u001b[0;34m(\u001b[0m\u001b[0mpathToFile\u001b[0m \u001b[0;34m+\u001b[0m \u001b[0;34m'NEMA_IQ_384str_N0_1000_COINCIDENCES_PREPARED_part06'\u001b[0m\u001b[0;34m,\u001b[0m \u001b[0;34m'rb'\u001b[0m\u001b[0;34m)\u001b[0m\u001b[0;34m)\u001b[0m\u001b[0;34m\u001b[0m\u001b[0;34m\u001b[0m\u001b[0m\n\u001b[1;32m      5\u001b[0m \u001b[0mdata\u001b[0m \u001b[0;34m=\u001b[0m \u001b[0mpd\u001b[0m\u001b[0;34m.\u001b[0m\u001b[0mconcat\u001b[0m\u001b[0;34m(\u001b[0m\u001b[0;34m[\u001b[0m\u001b[0mdata1\u001b[0m\u001b[0;34m[\u001b[0m\u001b[0;34m:\u001b[0m\u001b[0;36m10000\u001b[0m\u001b[0;34m]\u001b[0m\u001b[0;34m,\u001b[0m \u001b[0mdata2\u001b[0m\u001b[0;34m[\u001b[0m\u001b[0;34m:\u001b[0m\u001b[0;36m10000\u001b[0m\u001b[0;34m]\u001b[0m\u001b[0;34m,\u001b[0m \u001b[0mdata3\u001b[0m\u001b[0;34m[\u001b[0m\u001b[0;34m:\u001b[0m\u001b[0;36m10000\u001b[0m\u001b[0;34m]\u001b[0m\u001b[0;34m]\u001b[0m\u001b[0;34m,\u001b[0m \u001b[0mignore_index\u001b[0m \u001b[0;34m=\u001b[0m \u001b[0;32mTrue\u001b[0m\u001b[0;34m)\u001b[0m\u001b[0;34m\u001b[0m\u001b[0;34m\u001b[0m\u001b[0m\n",
      "\u001b[0;31mMemoryError\u001b[0m: "
     ]
    }
   ],
   "source": [
    "pathToFile = '/mnt/home/jbielecki1/NEMA/'\n",
    "data1 = pickle.load(open(pathToFile + 'NEMA_IQ_384str_N0_1000_COINCIDENCES_PREPARED_part04', 'rb'))\n",
    "data2 = pickle.load(open(pathToFile + 'NEMA_IQ_384str_N0_1000_COINCIDENCES_PREPARED_part05', 'rb'))\n",
    "data3 = pickle.load(open(pathToFile + 'NEMA_IQ_384str_N0_1000_COINCIDENCES_PREPARED_part06', 'rb'))\n",
    "data = pd.concat([data1[:10000], data2[:10000], data3[:10000]], ignore_index = True)"
   ]
  },
  {
   "cell_type": "code",
   "execution_count": null,
   "metadata": {},
   "outputs": [],
   "source": []
  },
  {
   "cell_type": "code",
   "execution_count": 13,
   "metadata": {},
   "outputs": [],
   "source": [
    "# Cut params\n",
    "width1 = 1050.0\n",
    "height1 = 42.0\n",
    "center = 180.0\n",
    "width2 = 160.0\n",
    "height2 = 6.5\n",
    "zCut = 10.85"
   ]
  },
  {
   "cell_type": "code",
   "execution_count": 14,
   "metadata": {},
   "outputs": [],
   "source": [
    "dataClass1 = data[data['class'] == 1]\n",
    "dataClass2 = data[data['class'] == 2]\n",
    "dataClass3 = data[data['class'] == 3]\n",
    "dataClass4 = data[data['class'] == 4]"
   ]
  },
  {
   "cell_type": "code",
   "execution_count": null,
   "metadata": {},
   "outputs": [],
   "source": [
    "def ellipseY(x, width, height, center):\n",
    "    return center - height*math.sqrt(1 - x**2/width**2)"
   ]
  },
  {
   "cell_type": "code",
   "execution_count": null,
   "metadata": {},
   "outputs": [],
   "source": [
    "xEllipse1 = np.arange(-width1, width1+1)\n",
    "yEllipse1 = np.array([ ellipseY(el, width1, height1, center) for el in xEllipse1 ])\n",
    "xEllipse2 = np.arange(-width2, width2+1)\n",
    "yEllipse2 = np.array([ ellipseY(el, width2, height2, center) for el in xEllipse2 ])"
   ]
  },
  {
   "cell_type": "code",
   "execution_count": null,
   "metadata": {},
   "outputs": [],
   "source": [
    "def cutGeometry(row):\n",
    "    prediction = True\n",
    "    rowClass = row['class']\n",
    "    \n",
    "    # Check z\n",
    "    if row['rZ1'] > zCut or row['rZ1'] < -zCut:\n",
    "        prediction = False\n",
    "        \n",
    "    # Check ellipse1\n",
    "    if row['dt'] < -width1 or row['dt'] > width1:\n",
    "        prediction = False\n",
    "    else:\n",
    "        if row['deg2D'] < ellipseY(row['dt'], width1, height1, center):\n",
    "            prediction = False\n",
    "    \n",
    "    # Check ellipse2\n",
    "    if row['dt'] > -width2 and row['dt'] < width2 \\\n",
    "        and row['deg2D'] > ellipseY(row['dt'], width2, height2, center):\n",
    "        prediction = False\n",
    "    \n",
    "    if prediction and row['class'] == 1:\n",
    "        return 1 # TP\n",
    "    elif prediction and row['class'] != 1:\n",
    "        return 2 # FP\n",
    "    elif ~prediction and row['class'] != 1:\n",
    "        return 3 # TN\n",
    "    elif ~prediction and row['class'] == 1:\n",
    "        return 4 # FN"
   ]
  },
  {
   "cell_type": "code",
   "execution_count": null,
   "metadata": {},
   "outputs": [],
   "source": [
    "cuttedData = data.apply(cutGeometry, axis = 1)\n",
    "pPsPredictedPositive = pd.DataFrame(pd.concat([cuttedData[cuttedData == 1], cuttedData[cuttedData == 2]]).sort_index())\n",
    "dataPositive = data.iloc[list(pPsPredictedPositive.index),:]"
   ]
  },
  {
   "cell_type": "code",
   "execution_count": null,
   "metadata": {},
   "outputs": [],
   "source": [
    "fig = plt.gcf()\n",
    "fig.set_size_inches(18.5, 8)\n",
    "fig.suptitle('subtitle', fontsize = 20, y = 0.08)\n",
    "ax1 = plt.subplot(2,4,1)\n",
    "ax1.ticklabel_format(style='sci', axis='y', scilimits=(0,0))\n",
    "ax1.hist(dataPositive['rZ1'], bins = 100, alpha = 0.5, color = 'green', label = 'Positive data')\n",
    "ax1.tick_params(direction='out', labelsize = 15)"
   ]
  },
  {
   "cell_type": "code",
   "execution_count": null,
   "metadata": {},
   "outputs": [],
   "source": []
  }
 ],
 "metadata": {
  "kernelspec": {
   "display_name": "Python 3",
   "language": "python",
   "name": "python3"
  },
  "language_info": {
   "codemirror_mode": {
    "name": "ipython",
    "version": 3
   },
   "file_extension": ".py",
   "mimetype": "text/x-python",
   "name": "python",
   "nbconvert_exporter": "python",
   "pygments_lexer": "ipython3",
   "version": "3.6.7"
  }
 },
 "nbformat": 4,
 "nbformat_minor": 2
}
