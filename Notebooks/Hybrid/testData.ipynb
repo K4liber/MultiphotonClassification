{
 "cells": [
  {
   "cell_type": "code",
   "execution_count": 1,
   "metadata": {},
   "outputs": [],
   "source": [
    "import pickle\n",
    "from sklearn.metrics import accuracy_score\n",
    "import numpy as np\n",
    "import matplotlib.pyplot as plt\n",
    "from sklearn.metrics import confusion_matrix\n",
    "import itertools\n",
    "import pandas as pd"
   ]
  },
  {
   "cell_type": "code",
   "execution_count": 2,
   "metadata": {},
   "outputs": [],
   "source": [
    "def dataFrameNames():\n",
    "    return [\n",
    "        \"x1\",     # 1 gamma detected x position [cm]\n",
    "        \"y1\",     # 1 gamma detected y position [cm]\n",
    "        \"z1\",     # 1 gamma detected z position [cm]\n",
    "        \"t1\",     # 1 gamma detection time [ps]\n",
    "        \"x2\",     # 2 gamma detected x position [cm]\n",
    "        \"y2\",     # 2 gamma detected y position [cm]\n",
    "        \"z2\",     # 2 gamma detected z position [cm]\n",
    "        \"t2\",     # 2 gamma detection time [ps]\n",
    "        \"vol1\",   # 1 gamma volume ID\n",
    "        \"vol2\",   # 2 gamma volume ID\n",
    "        \"e1\",     # 1 gamma energy loss during detection [keV]\n",
    "        \"e2\",     # 2 gamma energy loss during detection [keV]\n",
    "        \"class\",  # Type of coincidence(1-true, 2-phantom-scattered, 3-detector-scattered, 4-accidental)\n",
    "        \"sX1\",    # 1 gamma emission x position [cm]\n",
    "        \"sY1\",    # 1 gamma emission y position [cm]\n",
    "        \"sZ1\",    # 1 gamma emission z position [cm]\n",
    "        \"dt\",     # Detection times difference\n",
    "        \"rX1\",    # Reconstruction point - X cord\n",
    "        \"rY1\",    # Reconstruction point - Y cord\n",
    "        \"rZ1\",    # Reconstruction point - Z cord\n",
    "        \"rError\", # Difference beetwen source point and recontructed point\n",
    "        \"volD\",   # Volumes indexes difference\n",
    "        \"lorL\",   # LOR length\n",
    "        \"deg3D\",  # Angle beetwen lines (in XYZ geometry) connecting detection points with the center of detector\n",
    "        \"deg2D\",  # Angle beetwen lines (in XY geometry) connecting detection points with the center of detector\n",
    "        \"rL\",     # Distance beetween reconstructed point and the center of detector\n",
    "        \"eSum\"    # Sum of the detecions energies\n",
    "    ] "
   ]
  },
  {
   "cell_type": "code",
   "execution_count": 4,
   "metadata": {},
   "outputs": [],
   "source": [
    "directory = '/mnt/home/jbielecki1/NEMA/cutData'\n",
    "data = pd.read_csv(\n",
    "    directory, \n",
    "    sep = \"\\t\", \n",
    "    names = dataFrameNames()\n",
    ")"
   ]
  },
  {
   "cell_type": "code",
   "execution_count": 5,
   "metadata": {},
   "outputs": [
    {
     "data": {
      "text/plain": [
       "12882364"
      ]
     },
     "execution_count": 5,
     "metadata": {},
     "output_type": "execute_result"
    }
   ],
   "source": [
    "len(data)"
   ]
  },
  {
   "cell_type": "code",
   "execution_count": 6,
   "metadata": {},
   "outputs": [
    {
     "data": {
      "image/png": "[encoded data removed]",
      "text/plain": [
       "<Figure size 1332x576 with 1 Axes>"
      ]
     },
     "metadata": {
      "needs_background": "light"
     },
     "output_type": "display_data"
    }
   ],
   "source": [
    "fig = plt.gcf()\n",
    "fig.set_size_inches(18.5, 8)\n",
    "fig.suptitle('subtitle', fontsize = 20, y = 0.08)\n",
    "ax1 = plt.subplot(2,4,1)\n",
    "ax1.ticklabel_format(style='sci', axis='y', scilimits=(0,0))\n",
    "ax1.hist(data['rZ1'], bins = 100, alpha = 0.5, color = 'green', label = 'Positive data')\n",
    "ax1.tick_params(direction='out', labelsize = 15)"
   ]
  },
  {
   "cell_type": "code",
   "execution_count": null,
   "metadata": {},
   "outputs": [],
   "source": []
  }
 ],
 "metadata": {
  "kernelspec": {
   "display_name": "Python 3",
   "language": "python",
   "name": "python3"
  },
  "language_info": {
   "codemirror_mode": {
    "name": "ipython",
    "version": 3
   },
   "file_extension": ".py",
   "mimetype": "text/x-python",
   "name": "python",
   "nbconvert_exporter": "python",
   "pygments_lexer": "ipython3",
   "version": "3.6.7"
  }
 },
 "nbformat": 4,
 "nbformat_minor": 2
}
