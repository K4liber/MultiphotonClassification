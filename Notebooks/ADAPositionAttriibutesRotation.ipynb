{
 "cells": [
  {
   "cell_type": "code",
   "execution_count": 1,
   "metadata": {},
   "outputs": [],
   "source": [
    "import pickle\n",
    "from sklearn.metrics import accuracy_score\n",
    "import numpy as np\n",
    "import matplotlib.pyplot as plt\n",
    "from sklearn.metrics import confusion_matrix\n",
    "import itertools\n",
    "import pandas as pd"
   ]
  },
  {
   "cell_type": "code",
   "execution_count": 2,
   "metadata": {},
   "outputs": [],
   "source": [
    "directory = '/mnt/home/jbielecki1/NEMA/10000000/'\n",
    "modelFileName = 'ADA/adaEstimators1000Depth6'\n",
    "max_depth = 6"
   ]
  },
  {
   "cell_type": "code",
   "execution_count": 3,
   "metadata": {},
   "outputs": [],
   "source": [
    "model = pickle.load(open(directory + modelFileName, 'rb'))"
   ]
  },
  {
   "cell_type": "code",
   "execution_count": 20,
   "metadata": {},
   "outputs": [],
   "source": [
    "X_test = pickle.load(open(directory + 'xTest', 'rb'))\n",
    "y_test = pickle.load(open(directory + 'yTest', 'rb'))"
   ]
  },
  {
   "cell_type": "code",
   "execution_count": 21,
   "metadata": {},
   "outputs": [],
   "source": [
    "class_test = y_test[[\"class\"]].values\n",
    "y_test = y_test[['newClass']].values"
   ]
  },
  {
   "cell_type": "code",
   "execution_count": 22,
   "metadata": {},
   "outputs": [],
   "source": [
    "X_test_X1 = X_test['x1'].copy()\n",
    "X_test_Y1 = X_test['y1'].copy()\n",
    "X_test_rX1 = X_test['rX1'].copy()\n",
    "X_test_rY1 = X_test['rY1'].copy()\n",
    "X_test_X2 = X_test['x2'].copy()\n",
    "X_test_Y2 = X_test['y2'].copy()"
   ]
  },
  {
   "cell_type": "code",
   "execution_count": 23,
   "metadata": {},
   "outputs": [
    {
     "name": "stdout",
     "output_type": "stream",
     "text": [
      "-0.033595665000000004\n",
      "-0.8227719500000003\n",
      "0.14857144873183925\n",
      "-0.7163793976775018\n",
      "-0.005028174999999989\n",
      "-0.8241907650000001\n"
     ]
    }
   ],
   "source": [
    "print(np.mean(X_test['x1']))\n",
    "print(np.mean(X_test['y1']))\n",
    "print(np.mean(X_test['rX1']))\n",
    "print(np.mean(X_test['rY1']))\n",
    "print(np.mean(X_test['x2']))\n",
    "print(np.mean(X_test['y2']))"
   ]
  },
  {
   "cell_type": "code",
   "execution_count": 24,
   "metadata": {},
   "outputs": [],
   "source": [
    "X_test['x1'] = X_test_Y1\n",
    "X_test['y1'] = X_test_X1\n",
    "X_test['rX1'] = X_test_rY1\n",
    "X_test['rY1'] = X_test_rX1\n",
    "X_test['x2'] = X_test_Y2\n",
    "X_test['y2'] = X_test_X2"
   ]
  },
  {
   "cell_type": "code",
   "execution_count": 25,
   "metadata": {},
   "outputs": [
    {
     "name": "stdout",
     "output_type": "stream",
     "text": [
      "-0.8227719500000003\n",
      "-0.033595665000000004\n",
      "-0.7163793976775018\n",
      "0.14857144873183925\n",
      "-0.8241907650000001\n",
      "-0.005028174999999989\n"
     ]
    }
   ],
   "source": [
    "print(np.mean(X_test['x1']))\n",
    "print(np.mean(X_test['y1']))\n",
    "print(np.mean(X_test['rX1']))\n",
    "print(np.mean(X_test['rY1']))\n",
    "print(np.mean(X_test['x2']))\n",
    "print(np.mean(X_test['y2']))"
   ]
  },
  {
   "cell_type": "code",
   "execution_count": 26,
   "metadata": {},
   "outputs": [],
   "source": [
    "test_accuracy = []\n",
    "max_acc = 0\n",
    "y_pred_prob = []\n",
    "y_pred = []\n",
    "\n",
    "for test_predicts_el in model.staged_predict_proba(X_test):\n",
    "    y_pred_prob_el = test_predicts_el[:,1]\n",
    "    y_pred_el = y_pred_prob_el > 0.5\n",
    "    acc = accuracy_score(y_pred_el, np.array(y_test))\n",
    "    \n",
    "    if acc > max_acc:\n",
    "        max_acc = acc\n",
    "        y_pred_prob = y_pred_prob_el\n",
    "        y_pred = y_pred_el\n",
    "        \n",
    "    test_accuracy.append(acc)"
   ]
  },
  {
   "cell_type": "code",
   "execution_count": 27,
   "metadata": {},
   "outputs": [],
   "source": [
    "bestAccuracy = max(test_accuracy)\n",
    "bestNEstimators = test_accuracy.index(max(test_accuracy))"
   ]
  },
  {
   "cell_type": "code",
   "execution_count": 28,
   "metadata": {},
   "outputs": [
    {
     "data": {
      "text/plain": [
       "<matplotlib.legend.Legend at 0x7f97b0a77518>"
      ]
     },
     "execution_count": 28,
     "metadata": {},
     "output_type": "execute_result"
    },
    {
     "data": {
      "image/png": "[encoded data removed]",
      "text/plain": [
       "<Figure size 432x288 with 1 Axes>"
      ]
     },
     "metadata": {
      "needs_background": "light"
     },
     "output_type": "display_data"
    }
   ],
   "source": [
    "plt.plot([i+1 for i in range(len(test_accuracy))], test_accuracy, label = \"skuteczność - test\")\n",
    "plt.xlabel(\"liczba drzew\")\n",
    "plt.ylabel(\"odsetek poprawnie sklasyfikowanych próbek\")\n",
    "plt.title(\"AdaBoost accuracy (max_depth = \" + str(max_depth) + \", best test accuracy: \" + str(bestAccuracy) + \", n = \" + str(bestNEstimators) + \")\")\n",
    "plt.legend(loc = \"upper right\")"
   ]
  },
  {
   "cell_type": "code",
   "execution_count": 29,
   "metadata": {},
   "outputs": [],
   "source": [
    "pPsOrginalPositive = X_test[y_test > 0]\n",
    "pPsOrginalNegative = X_test[y_test == 0]\n",
    "pPsPredictedPositive = X_test[y_pred]\n",
    "pPsPredictedNegative = X_test[y_pred == 0]"
   ]
  },
  {
   "cell_type": "code",
   "execution_count": 30,
   "metadata": {},
   "outputs": [],
   "source": [
    "FP = len(pd.merge(pPsPredictedPositive,pPsOrginalNegative, how='inner'))\n",
    "TP = len(pd.merge(pPsPredictedPositive,pPsOrginalPositive, how='inner'))\n",
    "TN = len(pd.merge(pPsPredictedNegative,pPsOrginalNegative, how='inner'))\n",
    "FN = len(pd.merge(pPsPredictedNegative,pPsOrginalPositive, how='inner'))"
   ]
  },
  {
   "cell_type": "code",
   "execution_count": 31,
   "metadata": {},
   "outputs": [
    {
     "name": "stdout",
     "output_type": "stream",
     "text": [
      "Negative events (starting point of accuracy): 70.79915%\n",
      "Accuracy: 82.2125%\n",
      "Recall: 75.50105561995628%\n",
      "Selectivity: 84.98061064292438%\n",
      "Precision: 67.46199191874067%\n",
      "Backgroung acceptance: 15.019389357075616%\n"
     ]
    }
   ],
   "source": [
    "ACC = (TP + TN)/len(X_test) # accuracy\n",
    "TPR = TP/(TP + FN) # recall\n",
    "TNR = TN/(TN + FP) # selectivity\n",
    "PPV = TP/(TP + FP) # precision\n",
    "FPR = FP/(FP + TN) # background acceptance\n",
    "\n",
    "print(\"Negative events (starting point of accuracy): \" + str(len(y_test[y_test != 1])/len(y_test)*100.0) + \"%\")\n",
    "print(\"Accuracy: \" + str(ACC*100) + \"%\")\n",
    "print(\"Recall: \" + str(TPR*100) + \"%\")\n",
    "print(\"Selectivity: \" + str(TNR*100) + \"%\")\n",
    "print(\"Precision: \" + str(PPV*100) + \"%\")\n",
    "print(\"Backgroung acceptance: \" + str(FPR*100) + \"%\")"
   ]
  },
  {
   "cell_type": "code",
   "execution_count": null,
   "metadata": {},
   "outputs": [],
   "source": []
  }
 ],
 "metadata": {
  "kernelspec": {
   "display_name": "Python 3",
   "language": "python",
   "name": "python3"
  },
  "language_info": {
   "codemirror_mode": {
    "name": "ipython",
    "version": 3
   },
   "file_extension": ".py",
   "mimetype": "text/x-python",
   "name": "python",
   "nbconvert_exporter": "python",
   "pygments_lexer": "ipython3",
   "version": "3.6.7"
  }
 },
 "nbformat": 4,
 "nbformat_minor": 2
}
