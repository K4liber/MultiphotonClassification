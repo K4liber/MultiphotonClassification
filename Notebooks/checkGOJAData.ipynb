{
 "cells": [
  {
   "cell_type": "code",
   "execution_count": 1,
   "metadata": {},
   "outputs": [],
   "source": [
    "import pandas as pd\n",
    "import numpy as np\n",
    "import random as rnd\n",
    "import seaborn as sns\n",
    "import matplotlib.pyplot as plt\n",
    "import math"
   ]
  },
  {
   "cell_type": "code",
   "execution_count": 2,
   "metadata": {},
   "outputs": [],
   "source": [
    "pathToData = '/mnt/opt/groups/jpet/NEMA_Image_Quality/3000s/'\n",
    "someFile = 'NEMA_IQ_384str_N0_1000_COINCIDENCES_part00'\n",
    "\n",
    "def dataFrameNames():\n",
    "    return [\n",
    "        \"x1\", # 1 gamma detected x position [cm]\n",
    "        \"y1\", # 1 gamma detected y position [cm]\n",
    "        \"z1\", # 1 gamma detected z position [cm]\n",
    "        \"t1\", # 1 gamma detection time [ps]\n",
    "        \"x2\", # 2 gamma detected x position [cm]\n",
    "        \"y2\", # 2 gamma detected y position [cm]\n",
    "        \"z2\", # 2 gamma detected z position [cm]\n",
    "        \"t2\", # 2 gamma detection time [ps]\n",
    "        \"vol1\", # 1 gamma volume ID\n",
    "        \"vol2\", # 2 gamma volume ID\n",
    "        \"e1\", # 1 gamma energy loss during detection [keV]\n",
    "        \"e2\", # 2 gamma energy loss during detection [keV]\n",
    "        \"class\", # Type of coincidence(1-true, 2-phantom-scattered, 3-detector-scattered, 4-accidental)\n",
    "        \"sX1\", # 1 gamma emission x position [cm]\n",
    "        \"sY1\", # 1 gamma emission y position [cm]\n",
    "        \"sZ1\" # 1 gamma emission z position [cm]\n",
    "    ] "
   ]
  },
  {
   "cell_type": "code",
   "execution_count": 3,
   "metadata": {},
   "outputs": [],
   "source": [
    "data = pd.read_csv(pathToData+someFile, sep = \"\\t\", names=dataFrameNames(), nrows=100000)"
   ]
  },
  {
   "cell_type": "code",
   "execution_count": 6,
   "metadata": {},
   "outputs": [
    {
     "data": {
      "text/plain": [
       "<seaborn.axisgrid.FacetGrid at 0x7f5f59b3d978>"
      ]
     },
     "execution_count": 6,
     "metadata": {},
     "output_type": "execute_result"
    },
    {
     "data": {
      "image/png": "[encoded data removed]",
      "text/plain": [
       "<Figure size 864x216 with 4 Axes>"
      ]
     },
     "metadata": {
      "needs_background": "light"
     },
     "output_type": "display_data"
    }
   ],
   "source": [
    "grid = sns.FacetGrid(data, col='class')\n",
    "grid.map(plt.hist, 'e2', bins=20).set_axis_labels(\"e2 [keV]\", \"#\")"
   ]
  },
  {
   "cell_type": "code",
   "execution_count": 7,
   "metadata": {},
   "outputs": [
    {
     "data": {
      "text/plain": [
       "<seaborn.axisgrid.FacetGrid at 0x7f5f59432518>"
      ]
     },
     "execution_count": 7,
     "metadata": {},
     "output_type": "execute_result"
    },
    {
     "data": {
      "image/png": "[encoded data removed]",
      "text/plain": [
       "<Figure size 864x216 with 4 Axes>"
      ]
     },
     "metadata": {
      "needs_background": "light"
     },
     "output_type": "display_data"
    }
   ],
   "source": [
    "grid = sns.FacetGrid(data, col='class')\n",
    "grid.map(plt.hist, 'e1', bins=20).set_axis_labels(\"e1 [keV]\", \"#\")"
   ]
  },
  {
   "cell_type": "code",
   "execution_count": 9,
   "metadata": {},
   "outputs": [],
   "source": [
    "def emissionPoint(row):\n",
    "    sOfL = 0.03 # cm/ps\n",
    "    halfX = (row['x1'] - row['x2'])/2\n",
    "    halfY = (row['y1'] - row['y2'])/2\n",
    "    halfZ = (row['z1'] - row['z2'])/2\n",
    "    LORHalfSize = math.sqrt(halfX**2 + halfY**2 + halfZ**2)\n",
    "    versX = halfX/LORHalfSize\n",
    "    versY = halfY/LORHalfSize\n",
    "    versZ = halfZ/LORHalfSize\n",
    "    dX = row['dt']*sOfL*versX/2\n",
    "    dY = row['dt']*sOfL*versY/2\n",
    "    dZ = row['dt']*sOfL*versZ/2\n",
    "    return(  \n",
    "        (row['x1'] + row['x2'])/2 - dX,\n",
    "        (row['y1'] + row['y2'])/2 - dY,\n",
    "        (row['z1'] + row['z2'])/2 - dZ,\n",
    "        )\n",
    "\n",
    "data[['dt']] = data.apply(lambda row: pd.Series(row['t1'] - row['t2']), axis = 1)\n",
    "data[['RX1','RY1','RZ1']] = data.apply(lambda row: pd.Series(emissionPoint(row)), axis = 1)"
   ]
  },
  {
   "cell_type": "code",
   "execution_count": 10,
   "metadata": {},
   "outputs": [],
   "source": [
    "def distance(row):\n",
    "    return math.sqrt((row['sX1'] - row['RX1'])**2 + (row['sY1'] - row['RY1'])**2 + (row['sZ1'] - row['RZ1'])**2)\n",
    "\n",
    "data['emissionDistance']=data.apply(lambda row:distance(row), axis=1)"
   ]
  },
  {
   "cell_type": "code",
   "execution_count": 11,
   "metadata": {},
   "outputs": [
    {
     "data": {
      "text/plain": [
       "<seaborn.axisgrid.FacetGrid at 0x7f5f597ba668>"
      ]
     },
     "execution_count": 11,
     "metadata": {},
     "output_type": "execute_result"
    },
    {
     "data": {
      "image/png": "[encoded data removed]",
      "text/plain": [
       "<Figure size 216x216 with 1 Axes>"
      ]
     },
     "metadata": {
      "needs_background": "light"
     },
     "output_type": "display_data"
    }
   ],
   "source": [
    "dataNext = data[(data['e1'] >320) & (data['e2'] >320 ) &(data['class'] == 2 )]\n",
    "grid = sns.FacetGrid(dataNext, col='class')\n",
    "grid.map(plt.hist, 'emissionDistance', bins=20).set_axis_labels(\"emission distance [cm]\", \"#\")"
   ]
  },
  {
   "cell_type": "code",
   "execution_count": 13,
   "metadata": {},
   "outputs": [
    {
     "data": {
      "text/plain": [
       "<seaborn.axisgrid.FacetGrid at 0x7f5f5a455588>"
      ]
     },
     "execution_count": 13,
     "metadata": {},
     "output_type": "execute_result"
    },
    {
     "data": {
      "image/png": "[encoded data removed]",
      "text/plain": [
       "<Figure size 432x216 with 2 Axes>"
      ]
     },
     "metadata": {
      "needs_background": "light"
     },
     "output_type": "display_data"
    }
   ],
   "source": [
    "dataNext = data[(data['e1'] >320) & (data['e2'] >320 ) &(data['class'] !=4 ) &(data['class'] !=3 ) & (data['emissionDistance'] <0.05 )]\n",
    "grid = sns.FacetGrid(dataNext, col='class')\n",
    "grid.map(plt.hist, 'emissionDistance', bins=10).set_axis_labels(\"emission distance [cm]\", \"#\")"
   ]
  },
  {
   "cell_type": "code",
   "execution_count": null,
   "metadata": {},
   "outputs": [],
   "source": []
  }
 ],
 "metadata": {
  "kernelspec": {
   "display_name": "Python 3",
   "language": "python",
   "name": "python3"
  },
  "language_info": {
   "codemirror_mode": {
    "name": "ipython",
    "version": 3
   },
   "file_extension": ".py",
   "mimetype": "text/x-python",
   "name": "python",
   "nbconvert_exporter": "python",
   "pygments_lexer": "ipython3",
   "version": "3.6.7"
  }
 },
 "nbformat": 4,
 "nbformat_minor": 2
}
