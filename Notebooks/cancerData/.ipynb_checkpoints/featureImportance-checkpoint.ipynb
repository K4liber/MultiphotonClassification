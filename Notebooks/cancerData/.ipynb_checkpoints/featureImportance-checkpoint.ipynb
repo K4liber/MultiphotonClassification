{
 "cells": [
  {
   "cell_type": "code",
   "execution_count": 1,
   "metadata": {},
   "outputs": [],
   "source": [
    "from xgboost import XGBClassifier\n",
    "import pandas as pd\n",
    "from sklearn.ensemble import AdaBoostClassifier\n",
    "from sklearn.tree import DecisionTreeClassifier\n",
    "import numpy as np\n",
    "from sklearn.model_selection import train_test_split\n",
    "import matplotlib.pyplot as plt "
   ]
  },
  {
   "cell_type": "code",
   "execution_count": 2,
   "metadata": {},
   "outputs": [],
   "source": [
    "dataDirectory = '/mnt/home/jbielecki1/test_env_dir/p3test/cancerData/wpbc.data'\n",
    "data = pd.read_csv(dataDirectory, header = None)\n",
    "x = data.iloc[:,2:30]\n",
    "y = data.iloc[:,1]\n",
    "y.columns = ['class']\n",
    "feature_names = ['f' + str(x-2) for x in x.columns]\n",
    "x.columns = feature_names\n",
    "x_train, x_test, y_train, y_test = train_test_split(x, y, test_size = 0.3, train_size = 0.7, random_state = 42, stratify = y)"
   ]
  },
  {
   "cell_type": "code",
   "execution_count": 3,
   "metadata": {},
   "outputs": [
    {
     "name": "stdout",
     "output_type": "stream",
     "text": [
      "Length of dataset: 198\n",
      "Starting accuracy: 76.26262626262627%\n",
      "Starting train accuracy: 76.08695652173914%\n",
      "Starting test accuracy: 76.66666666666667%\n"
     ]
    }
   ],
   "source": [
    "print(\"Length of dataset: \" + str(len(data)))\n",
    "print(\"Starting accuracy: \" + str(len(y[y == 'N'])/len(data)*100) + \"%\")\n",
    "print(\"Starting train accuracy: \" + str(len(y_train[y_train == 'N'])/len(y_train)*100) + \"%\")\n",
    "print(\"Starting test accuracy: \" + str(len(y_test[y_test == 'N'])/len(y_test)*100) + \"%\")"
   ]
  },
  {
   "cell_type": "code",
   "execution_count": 4,
   "metadata": {},
   "outputs": [],
   "source": [
    "modelAda = AdaBoostClassifier(\n",
    "    base_estimator = DecisionTreeClassifier(max_depth = 2),\n",
    "    algorithm = 'SAMME.R',\n",
    "    n_estimators = 20,\n",
    "    learning_rate = 0.2\n",
    ")\n",
    "modelXGB = XGBClassifier(\n",
    "    objective = 'binary:logistic',\n",
    "    booster = 'gbtree',\n",
    "    subsample = 1,\n",
    "    n_estimators = 20,\n",
    "    max_depth = 2,\n",
    "    learning_rate = 0.2\n",
    ")"
   ]
  },
  {
   "cell_type": "code",
   "execution_count": 5,
   "metadata": {},
   "outputs": [
    {
     "data": {
      "text/plain": [
       "AdaBoostClassifier(algorithm='SAMME.R',\n",
       "          base_estimator=DecisionTreeClassifier(class_weight=None, criterion='gini', max_depth=2,\n",
       "            max_features=None, max_leaf_nodes=None,\n",
       "            min_impurity_decrease=0.0, min_impurity_split=None,\n",
       "            min_samples_leaf=1, min_samples_split=2,\n",
       "            min_weight_fraction_leaf=0.0, presort=False, random_state=None,\n",
       "            splitter='best'),\n",
       "          learning_rate=0.2, n_estimators=20, random_state=None)"
      ]
     },
     "execution_count": 5,
     "metadata": {},
     "output_type": "execute_result"
    }
   ],
   "source": [
    "modelXGB.fit(x_train, y_train)\n",
    "modelAda.fit(x_train, y_train)"
   ]
  },
  {
   "cell_type": "code",
   "execution_count": 6,
   "metadata": {},
   "outputs": [],
   "source": [
    "def plotFeatureImportances(features, importances, modelName):\n",
    "    y_pos = np.arange(features.size)\n",
    "    plt.clf()\n",
    "    indexes = np.argsort(importances)\n",
    "    plt.title(\"Feature importances - \" + modelName)\n",
    "    plt.barh(y_pos, np.sort(importances))\n",
    "    plt.yticks(y_pos, features[indexes])\n",
    "    plt.xlabel('F score')\n",
    "    plt.ylabel(\"Feature\")\n",
    "    plt.show()"
   ]
  },
  {
   "cell_type": "code",
   "execution_count": 96,
   "metadata": {},
   "outputs": [
    {
     "data": {
      "image/png": "[encoded data removed]",
      "text/plain": [
       "<Figure size 432x288 with 1 Axes>"
      ]
     },
     "metadata": {
      "needs_background": "light"
     },
     "output_type": "display_data"
    }
   ],
   "source": [
    "plotFeatureImportances(x_test.columns, modelAda.feature_importances_, 'ADA - gini')"
   ]
  },
  {
   "cell_type": "code",
   "execution_count": 8,
   "metadata": {},
   "outputs": [],
   "source": [
    "def getXGBFeatureImportances(importance_type, modelXGB):\n",
    "    feature_importances = modelXGB.get_booster().get_score(importance_type = importance_type)\n",
    "    feature_importances_values = list(modelXGB.get_booster().get_score(importance_type = importance_type).values())\n",
    "    feature_importances_sum = sum(feature_importances_values)\n",
    "    feature_importances_values_norm = [x/feature_importances_sum for x in feature_importances_values]\n",
    "    correct_feature_importances = dict(zip(\n",
    "        list(modelXGB.get_booster().get_score(importance_type = importance_type).keys()),\n",
    "        feature_importances_values_norm\n",
    "    ))\n",
    "\n",
    "    for key, value in feature_importances.items():\n",
    "        correct_feature_importances[key] = value/feature_importances_sum\n",
    "\n",
    "    correct_names_feature_importances = dict(zip(\n",
    "        [\"f\" + str(x) for x in range(len(feature_importances_values))],\n",
    "        correct_feature_importances.values()\n",
    "    ))\n",
    "    return correct_feature_importances"
   ]
  },
  {
   "cell_type": "code",
   "execution_count": 9,
   "metadata": {},
   "outputs": [
    {
     "name": "stdout",
     "output_type": "stream",
     "text": [
      "{'f0': 0.09619825492623378, 'f25': 0.0772014696611548, 'f12': 0.06948787109779958, 'f10': 0.05131462608706296, 'f7': 0.03075663961298492, 'f24': 0.0938295152113437, 'f13': 0.06163193151114366, 'f18': 0.06848097545637358, 'f17': 0.07715722104809528, 'f21': 0.051281546526098766, 'f11': 0.0853821532399391, 'f9': 0.046482820788446, 'f4': 0.043982807821427244, 'f3': 0.04701480795720197, 'f27': 0.034821976765571604, 'f26': 0.06497538228912313}\n"
     ]
    }
   ],
   "source": [
    "print(getXGBFeatureImportances('gain', modelXGB))"
   ]
  },
  {
   "cell_type": "code",
   "execution_count": 11,
   "metadata": {},
   "outputs": [
    {
     "data": {
      "text/plain": [
       "Index(['f0', 'f1', 'f2', 'f3', 'f4', 'f5', 'f6', 'f7', 'f8', 'f9', 'f10',\n",
       "       'f11', 'f12', 'f13', 'f14', 'f15', 'f16', 'f17', 'f18', 'f19', 'f20',\n",
       "       'f21', 'f22', 'f23', 'f24', 'f25', 'f26', 'f27'],\n",
       "      dtype='object')"
      ]
     },
     "execution_count": 11,
     "metadata": {},
     "output_type": "execute_result"
    }
   ],
   "source": [
    "x_test.columns"
   ]
  },
  {
   "cell_type": "code",
   "execution_count": 12,
   "metadata": {},
   "outputs": [
    {
     "ename": "SyntaxError",
     "evalue": "invalid syntax (<ipython-input-12-2c7031cff62b>, line 4)",
     "output_type": "error",
     "traceback": [
      "\u001b[0;36m  File \u001b[0;32m\"<ipython-input-12-2c7031cff62b>\"\u001b[0;36m, line \u001b[0;32m4\u001b[0m\n\u001b[0;31m    plotFeatureImportances(xgb_feature_importances_gain_keys, xgb_feature_importances_gain_values, 'XGB - gain'))\u001b[0m\n\u001b[0m                                                                                                                ^\u001b[0m\n\u001b[0;31mSyntaxError\u001b[0m\u001b[0;31m:\u001b[0m invalid syntax\n"
     ]
    }
   ],
   "source": [
    "xgb_feature_importances_gain = getXGBFeatureImportances('gain', modelXGB)\n",
    "xgb_feature_importances_gain_keys = pd.Index(list(getXGBFeatureImportances('gain', modelXGB).keys()))\n",
    "xgb_feature_importances_gain_values = list(getXGBFeatureImportances('gain', modelXGB).values())\n",
    "plotFeatureImportances(xgb_feature_importances_gain_keys, xgb_feature_importances_gain_values, 'XGB - gain')"
   ]
  },
  {
   "cell_type": "code",
   "execution_count": null,
   "metadata": {},
   "outputs": [],
   "source": []
  }
 ],
 "metadata": {
  "kernelspec": {
   "display_name": "Python 3",
   "language": "python",
   "name": "python3"
  },
  "language_info": {
   "codemirror_mode": {
    "name": "ipython",
    "version": 3
   },
   "file_extension": ".py",
   "mimetype": "text/x-python",
   "name": "python",
   "nbconvert_exporter": "python",
   "pygments_lexer": "ipython3",
   "version": "3.6.7"
  }
 },
 "nbformat": 4,
 "nbformat_minor": 2
}
