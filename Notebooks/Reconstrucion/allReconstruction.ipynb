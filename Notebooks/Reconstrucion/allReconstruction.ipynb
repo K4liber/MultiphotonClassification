{
 "cells": [
  {
   "cell_type": "code",
   "execution_count": 1,
   "metadata": {},
   "outputs": [],
   "source": [
    "import pickle\n",
    "import numpy as np\n",
    "import pandas as pd\n",
    "import math"
   ]
  },
  {
   "cell_type": "code",
   "execution_count": 2,
   "metadata": {},
   "outputs": [],
   "source": [
    "pathToFile = '/mnt/home/jbielecki1/NEMA/'\n",
    "data1 = pickle.load(open(pathToFile + 'NEMA_IQ_384str_N0_1000_COINCIDENCES_PREPARED_part01', 'rb'))\n",
    "data2 = pickle.load(open(pathToFile + 'NEMA_IQ_384str_N0_1000_COINCIDENCES_PREPARED_part02', 'rb'))\n",
    "data3 = pickle.load(open(pathToFile + 'NEMA_IQ_384str_N0_1000_COINCIDENCES_PREPARED_part03', 'rb'))\n",
    "data4 = pickle.load(open(pathToFile + 'NEMA_IQ_384str_N0_1000_COINCIDENCES_PREPARED_part04', 'rb'))\n",
    "data5 = pickle.load(open(pathToFile + 'NEMA_IQ_384str_N0_1000_COINCIDENCES_PREPARED_part05', 'rb'))\n",
    "data6 = pickle.load(open(pathToFile + 'NEMA_IQ_384str_N0_1000_COINCIDENCES_PREPARED_part06', 'rb'))\n",
    "\n",
    "data = pd.concat([data1, data2, data3, data4, data5, data6], ignore_index = True)"
   ]
  },
  {
   "cell_type": "code",
   "execution_count": 4,
   "metadata": {},
   "outputs": [],
   "source": [
    "dataRec = data.iloc[:,:16]"
   ]
  },
  {
   "cell_type": "code",
   "execution_count": 5,
   "metadata": {},
   "outputs": [
    {
     "name": "stdout",
     "output_type": "stream",
     "text": [
      "      x1     y1     z1            t1     x2     y2     z2            t2  \\\n",
      "0  38.74  18.15   6.72  1.611663e+14  31.55 -30.05   8.29  1.611663e+14   \n",
      "1  21.34  38.76   6.84  1.611663e+14  -7.38 -43.36  -0.78  1.611663e+14   \n",
      "2 -35.31 -26.70  10.98  1.611663e+14   0.70  43.33 -20.42  1.611663e+14   \n",
      "3  10.59 -41.69 -21.90  1.611663e+14  43.70   4.47  12.40  1.611663e+14   \n",
      "4 -30.73 -31.87  -4.57  1.611663e+14   5.97  44.20  -6.38  1.611663e+14   \n",
      "\n",
      "    vol1   vol2      e1      e2  class    sX1   sY1   sZ1  \n",
      "0   28.0  338.0  334.07  220.69    4.0   5.14 -1.82  1.31  \n",
      "1   66.0  279.0  271.44  274.99    2.0   3.81  8.97 -2.41  \n",
      "2  233.0   96.0  263.97  201.76    2.0 -13.13  1.77  6.65  \n",
      "3  304.0    7.0  210.41  252.64    4.0  12.58 -6.79  2.24  \n",
      "4  242.0   89.0  299.14  262.71    4.0 -10.35 -0.47  2.38  \n"
     ]
    }
   ],
   "source": [
    "print(dataRec.head())"
   ]
  },
  {
   "cell_type": "code",
   "execution_count": 6,
   "metadata": {},
   "outputs": [
    {
     "name": "stdout",
     "output_type": "stream",
     "text": [
      "60000000\n"
     ]
    }
   ],
   "source": [
    "print(len(dataRec))"
   ]
  },
  {
   "cell_type": "code",
   "execution_count": 7,
   "metadata": {},
   "outputs": [],
   "source": [
    "dataRec.to_csv(pathToFile + 'allReconstruction_parts6', sep = \"\\t\", header = False, index = False)"
   ]
  },
  {
   "cell_type": "code",
   "execution_count": null,
   "metadata": {},
   "outputs": [],
   "source": []
  }
 ],
 "metadata": {
  "kernelspec": {
   "display_name": "Python 3",
   "language": "python",
   "name": "python3"
  },
  "language_info": {
   "codemirror_mode": {
    "name": "ipython",
    "version": 3
   },
   "file_extension": ".py",
   "mimetype": "text/x-python",
   "name": "python",
   "nbconvert_exporter": "python",
   "pygments_lexer": "ipython3",
   "version": "3.6.7"
  }
 },
 "nbformat": 4,
 "nbformat_minor": 2
}
