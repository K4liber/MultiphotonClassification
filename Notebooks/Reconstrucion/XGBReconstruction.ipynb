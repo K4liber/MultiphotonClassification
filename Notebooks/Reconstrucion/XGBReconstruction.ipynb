{
 "cells": [
  {
   "cell_type": "code",
   "execution_count": 1,
   "metadata": {},
   "outputs": [],
   "source": [
    "import pickle\n",
    "import numpy as np\n",
    "import pandas as pd"
   ]
  },
  {
   "cell_type": "code",
   "execution_count": 6,
   "metadata": {},
   "outputs": [],
   "source": [
    "directory = '/mnt/home/jbielecki1/NEMA/'\n",
    "modelFileName = '10000000/XGB/xgbEstimators1000Depth6'\n",
    "fileName = 'NEMA_IQ_384str_N0_1000_COINCIDENCES_PREPARED_part'\n",
    "max_depth = 6\n",
    "feature_names = ['x1', 'y1', 'z1', 'x2', 'y2', 'z2', 'vol1', 'vol2', 'e1', 'e2', 'dt', 'rX1', 'rY1', 'rZ1', 'volD', 'lorL', 'deg3D', 'deg2D', 'rL', 'eSum']\n",
    "dataPositiveParts = []"
   ]
  },
  {
   "cell_type": "code",
   "execution_count": 7,
   "metadata": {},
   "outputs": [],
   "source": [
    "model = pickle.load(open(directory + modelFileName, 'rb'))"
   ]
  },
  {
   "cell_type": "code",
   "execution_count": 16,
   "metadata": {},
   "outputs": [],
   "source": [
    "def getGOJAFormatPositivePrediction(filePath):\n",
    "    data = pickle.load(open(filePath, 'rb'))\n",
    "    codes = {1:1, 2:0, 3:0, 4:0}\n",
    "    y = data[\"class\"].map(codes)\n",
    "    x = data.drop([\"t1\", \"t2\", \"sX1\", \"sY1\", \"sZ1\", \"class\", \"rError\"], axis = 1)\n",
    "    x.columns = [\"f\" + str(x) for x in range(20)]\n",
    "    y_pred_prob = model.predict_proba(x)\n",
    "    y_pred = y_pred_prob > 0.5\n",
    "    pPsPredictedPositive = x[y_pred[:,1]]\n",
    "    dataPositive = data.iloc[list(pPsPredictedPositive.index),:]\n",
    "    return dataPositive.iloc[:,:16]"
   ]
  },
  {
   "cell_type": "code",
   "execution_count": 17,
   "metadata": {},
   "outputs": [],
   "source": [
    "for i in range(8):\n",
    "    dataPositiveParts.append(getGOJAFormatPositivePrediction(directory + fileName + '0' + str(i+1)))\n",
    "\n",
    "for i in range(8):\n",
    "    dataPositiveParts.append(getGOJAFormatPositivePrediction(directory + fileName + '1' + str(i)))\n",
    "    \n",
    "dataRec = pd.concat(dataPositiveParts)"
   ]
  },
  {
   "cell_type": "code",
   "execution_count": 18,
   "metadata": {},
   "outputs": [
    {
     "data": {
      "text/plain": [
       "60829205"
      ]
     },
     "execution_count": 18,
     "metadata": {},
     "output_type": "execute_result"
    }
   ],
   "source": [
    "len(dataRec)"
   ]
  },
  {
   "cell_type": "code",
   "execution_count": 19,
   "metadata": {},
   "outputs": [],
   "source": [
    "dataRec.to_csv(directory + 'xgbReconstruction_parts16', sep = \"\\t\", header = False, index = False)"
   ]
  },
  {
   "cell_type": "code",
   "execution_count": null,
   "metadata": {},
   "outputs": [],
   "source": []
  }
 ],
 "metadata": {
  "kernelspec": {
   "display_name": "Python 3",
   "language": "python",
   "name": "python3"
  },
  "language_info": {
   "codemirror_mode": {
    "name": "ipython",
    "version": 3
   },
   "file_extension": ".py",
   "mimetype": "text/x-python",
   "name": "python",
   "nbconvert_exporter": "python",
   "pygments_lexer": "ipython3",
   "version": "3.6.7"
  }
 },
 "nbformat": 4,
 "nbformat_minor": 2
}
