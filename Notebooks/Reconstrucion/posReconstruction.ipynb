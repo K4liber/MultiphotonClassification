{
 "cells": [
  {
   "cell_type": "code",
   "execution_count": 2,
   "metadata": {},
   "outputs": [],
   "source": [
    "import pickle\n",
    "import numpy as np\n",
    "import pandas as pd\n",
    "import math"
   ]
  },
  {
   "cell_type": "code",
   "execution_count": 3,
   "metadata": {},
   "outputs": [],
   "source": [
    "pathToFile = '/mnt/home/jbielecki1/NEMA/'\n",
    "dataPositiveParts = []\n",
    "fileName = 'NEMA_IQ_384str_N0_1000_COINCIDENCES_PREPARED_part'\n",
    "\n",
    "for i in range(8):\n",
    "    dataPart = pickle.load(open(pathToFile + fileName + '0' + str(i+1), 'rb'))\n",
    "    dataPositivePart = dataPart[dataPart['class'] == 1]\n",
    "    dataPositiveParts.append(dataPositivePart)\n",
    "\n",
    "for i in range(8):\n",
    "    dataPart = pickle.load(open(pathToFile + fileName + '1' + str(i), 'rb'))\n",
    "    dataPositivePart = dataPart[dataPart['class'] == 1]\n",
    "    dataPositiveParts.append(dataPositivePart)\n",
    "    \n",
    "dataPositive = pd.concat(dataPositiveParts)"
   ]
  },
  {
   "cell_type": "code",
   "execution_count": 4,
   "metadata": {},
   "outputs": [
    {
     "data": {
      "text/plain": [
       "46685456"
      ]
     },
     "execution_count": 4,
     "metadata": {},
     "output_type": "execute_result"
    }
   ],
   "source": [
    "len(dataPositive)"
   ]
  },
  {
   "cell_type": "code",
   "execution_count": 5,
   "metadata": {},
   "outputs": [],
   "source": [
    "dataRec = dataPositive.iloc[:,:16]\n",
    "dataRec.to_csv(pathToFile + 'posReconstruction', sep = \"\\t\", header = False, index = False)"
   ]
  },
  {
   "cell_type": "code",
   "execution_count": null,
   "metadata": {},
   "outputs": [],
   "source": []
  }
 ],
 "metadata": {
  "kernelspec": {
   "display_name": "Python 3",
   "language": "python",
   "name": "python3"
  },
  "language_info": {
   "codemirror_mode": {
    "name": "ipython",
    "version": 3
   },
   "file_extension": ".py",
   "mimetype": "text/x-python",
   "name": "python",
   "nbconvert_exporter": "python",
   "pygments_lexer": "ipython3",
   "version": "3.6.7"
  }
 },
 "nbformat": 4,
 "nbformat_minor": 2
}
