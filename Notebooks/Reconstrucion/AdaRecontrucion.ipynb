{
 "cells": [
  {
   "cell_type": "code",
   "execution_count": 8,
   "metadata": {},
   "outputs": [],
   "source": [
    "import pickle\n",
    "from sklearn.metrics import accuracy_score\n",
    "import numpy as np\n",
    "import pandas as pd"
   ]
  },
  {
   "cell_type": "code",
   "execution_count": 9,
   "metadata": {},
   "outputs": [],
   "source": [
    "directory = '/mnt/home/jbielecki1/NEMA/'\n",
    "modelFileName = '10000000/ADA/adaEstimators1000Depth6'\n",
    "max_depth = 6"
   ]
  },
  {
   "cell_type": "code",
   "execution_count": 10,
   "metadata": {},
   "outputs": [],
   "source": [
    "model = pickle.load(open(directory + modelFileName, 'rb'))\n",
    "data = pickle.load(open(directory + 'NEMA_IQ_384str_N0_1000_COINCIDENCES_PREPARED_part01', 'rb'))\n",
    "data2 = pickle.load(open(directory + 'NEMA_IQ_384str_N0_1000_COINCIDENCES_PREPARED_part02', 'rb'))\n",
    "data3 = pickle.load(open(directory + 'NEMA_IQ_384str_N0_1000_COINCIDENCES_PREPARED_part03', 'rb'))\n",
    "allData = pd.concat([data, data2, data3])"
   ]
  },
  {
   "cell_type": "code",
   "execution_count": 11,
   "metadata": {},
   "outputs": [],
   "source": [
    "codes = {1:1, 2:0, 3:0, 4:0}\n",
    "y = allData[\"class\"].map(codes)\n",
    "x = allData.drop([\"t1\", \"t2\", \"sX1\", \"sY1\", \"sZ1\", \"class\", \"rError\"], axis = 1)"
   ]
  },
  {
   "cell_type": "code",
   "execution_count": 12,
   "metadata": {},
   "outputs": [
    {
     "name": "stdout",
     "output_type": "stream",
     "text": [
      "Percetage of positive probes: 29.172603333333335%\n"
     ]
    }
   ],
   "source": [
    "print(\"Percetage of positive probes: \" + str(len(y[y == 1])/len(y) * 100) + \"%\")"
   ]
  },
  {
   "cell_type": "code",
   "execution_count": null,
   "metadata": {},
   "outputs": [],
   "source": [
    "test_accuracy = []\n",
    "max_acc = 0\n",
    "y_pred_prob = []\n",
    "y_pred = []\n",
    "\n",
    "for test_predicts_el in model.staged_predict_proba(x):\n",
    "    y_pred_prob_el = test_predicts_el[:,1]\n",
    "    y_pred_el = y_pred_prob_el > 0.5\n",
    "    acc = accuracy_score(y_pred_el, np.array(y))\n",
    "    \n",
    "    if acc > max_acc:\n",
    "        max_acc = acc\n",
    "        y_pred_prob = y_pred_prob_el\n",
    "        y_pred = y_pred_el\n",
    "        \n",
    "    test_accuracy.append(acc)"
   ]
  },
  {
   "cell_type": "code",
   "execution_count": null,
   "metadata": {},
   "outputs": [],
   "source": [
    "bestAccuracy = max(test_accuracy)\n",
    "bestNEstimators = test_accuracy.index(max(test_accuracy))"
   ]
  },
  {
   "cell_type": "code",
   "execution_count": 8,
   "metadata": {},
   "outputs": [
    {
     "name": "stdout",
     "output_type": "stream",
     "text": [
      "0.8850935\n"
     ]
    }
   ],
   "source": [
    "print(bestAccuracy)"
   ]
  },
  {
   "cell_type": "code",
   "execution_count": 9,
   "metadata": {},
   "outputs": [],
   "source": [
    "pPsOrginalPositive = x[y > 0]\n",
    "pPsOrginalNegative = x[y == 0]\n",
    "pPsPredictedPositive = x[y_pred]\n",
    "pPsPredictedNegative = x[y_pred == 0]"
   ]
  },
  {
   "cell_type": "code",
   "execution_count": 13,
   "metadata": {},
   "outputs": [],
   "source": [
    "dataPositive = data.iloc[list(pPsPredictedPositive.index),:]"
   ]
  },
  {
   "cell_type": "code",
   "execution_count": 14,
   "metadata": {},
   "outputs": [],
   "source": [
    "dataRec = dataPositive.iloc[:,:16]"
   ]
  },
  {
   "cell_type": "code",
   "execution_count": 15,
   "metadata": {},
   "outputs": [
    {
     "data": {
      "text/plain": [
       "3812932"
      ]
     },
     "execution_count": 15,
     "metadata": {},
     "output_type": "execute_result"
    }
   ],
   "source": [
    "len(dataRec)"
   ]
  },
  {
   "cell_type": "code",
   "execution_count": 16,
   "metadata": {},
   "outputs": [],
   "source": [
    "dataRec.to_csv(directory + 'adaReconstruction', sep = \"\\t\", header = False, index = False)"
   ]
  },
  {
   "cell_type": "code",
   "execution_count": null,
   "metadata": {},
   "outputs": [],
   "source": []
  }
 ],
 "metadata": {
  "kernelspec": {
   "display_name": "Python 3",
   "language": "python",
   "name": "python3"
  },
  "language_info": {
   "codemirror_mode": {
    "name": "ipython",
    "version": 3
   },
   "file_extension": ".py",
   "mimetype": "text/x-python",
   "name": "python",
   "nbconvert_exporter": "python",
   "pygments_lexer": "ipython3",
   "version": "3.6.7"
  }
 },
 "nbformat": 4,
 "nbformat_minor": 2
}
