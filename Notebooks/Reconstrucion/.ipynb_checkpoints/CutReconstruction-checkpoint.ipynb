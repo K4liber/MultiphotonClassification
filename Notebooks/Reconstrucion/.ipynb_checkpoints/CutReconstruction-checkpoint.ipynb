{
 "cells": [
  {
   "cell_type": "code",
   "execution_count": 1,
   "metadata": {},
   "outputs": [],
   "source": [
    "import pickle\n",
    "import numpy as np\n",
    "import pandas as pd\n",
    "import math"
   ]
  },
  {
   "cell_type": "code",
   "execution_count": 2,
   "metadata": {},
   "outputs": [],
   "source": [
    "pathToFile = '/mnt/home/jbielecki1/NEMA/'\n",
    "fileName = 'NEMA_IQ_384str_N0_1000_COINCIDENCES_PREPARED_part01'\n",
    "\n",
    "data = pickle.load(open(pathToFile + fileName, 'rb'))"
   ]
  },
  {
   "cell_type": "code",
   "execution_count": 3,
   "metadata": {},
   "outputs": [],
   "source": [
    "# Cut params\n",
    "width1 = 1050.0\n",
    "height1 = 42.0\n",
    "center = 180.0\n",
    "width2 = 160.0\n",
    "height2 = 6.5\n",
    "zCut = 10.85"
   ]
  },
  {
   "cell_type": "code",
   "execution_count": 4,
   "metadata": {},
   "outputs": [],
   "source": [
    "dataClass1 = data[data['class'] == 1]\n",
    "dataClass2 = data[data['class'] == 2]\n",
    "dataClass3 = data[data['class'] == 3]\n",
    "dataClass4 = data[data['class'] == 4]"
   ]
  },
  {
   "cell_type": "code",
   "execution_count": 5,
   "metadata": {},
   "outputs": [],
   "source": [
    "def ellipseY(x, width, height, center):\n",
    "    return center - height*math.sqrt(1 - x**2/width**2)\n",
    "\n",
    "xEllipse1 = np.arange(-width1, width1+1)\n",
    "yEllipse1 = np.array([ ellipseY(el, width1, height1, center) for el in xEllipse1 ])\n",
    "xEllipse2 = np.arange(-width2, width2+1)\n",
    "yEllipse2 = np.array([ ellipseY(el, width2, height2, center) for el in xEllipse2 ])"
   ]
  },
  {
   "cell_type": "code",
   "execution_count": 6,
   "metadata": {},
   "outputs": [],
   "source": [
    "def cutGeometry(row):\n",
    "    prediction = True\n",
    "    rowClass = row['class']\n",
    "    \n",
    "    # Check z\n",
    "    if row['rZ1'] > zCut or row['rZ1'] < -zCut:\n",
    "        prediction = False\n",
    "        \n",
    "    # Check ellipse1\n",
    "    if row['dt'] < -width1 or row['dt'] > width1:\n",
    "        prediction = False\n",
    "    else:\n",
    "        if row['deg2D'] < ellipseY(row['dt'], width1, height1, center):\n",
    "            prediction = False\n",
    "    \n",
    "    # Check ellipse2\n",
    "    if row['dt'] > -width2 and row['dt'] < width2 \\\n",
    "        and row['deg2D'] > ellipseY(row['dt'], width2, height2, center):\n",
    "        prediction = False\n",
    "    \n",
    "    if prediction and row['class'] == 1:\n",
    "        return 1 # TP\n",
    "    elif prediction and row['class'] != 1:\n",
    "        return 2 # FP\n",
    "    elif ~prediction and row['class'] != 1:\n",
    "        return 3 # TN\n",
    "    elif ~prediction and row['class'] == 1:\n",
    "        return 4 # FN"
   ]
  },
  {
   "cell_type": "code",
   "execution_count": null,
   "metadata": {},
   "outputs": [],
   "source": [
    "cuttedData = data.apply(cutGeometry, axis = 1)"
   ]
  },
  {
   "cell_type": "code",
   "execution_count": null,
   "metadata": {},
   "outputs": [],
   "source": [
    "TP = len(cuttedData[cuttedData == 1])\n",
    "FP = len(cuttedData[cuttedData == 2])\n",
    "TN = len(cuttedData[cuttedData == 3])\n",
    "FN = len(cuttedData[cuttedData == 4])"
   ]
  },
  {
   "cell_type": "code",
   "execution_count": null,
   "metadata": {},
   "outputs": [],
   "source": [
    "ACC = (TP + TN)/len(cuttedData) # accuracy\n",
    "TPR = TP/(TP + FN) # recall\n",
    "TNR = TN/(TN + FP) # selectivity\n",
    "PPV = TP/(TP + FP) # precision\n",
    "FPR = FP/(FP + TN) # background acceptance\n",
    "\n",
    "print(\"Negative events (starting point of accuracy): \" + str(len(data[data['class'] != 1])/len(data)*100.0) + \"%\")\n",
    "print(\"Accuracy: \" + str(ACC*100) + \"%\")\n",
    "print(\"Recall: \" + str(TPR*100) + \"%\")\n",
    "print(\"Selectivity: \" + str(TNR*100) + \"%\")\n",
    "print(\"Precision: \" + str(PPV*100) + \"%\")\n",
    "print(\"Backgroung acceptance: \" + str(FPR*100) + \"%\")"
   ]
  },
  {
   "cell_type": "code",
   "execution_count": null,
   "metadata": {},
   "outputs": [],
   "source": [
    "pPsPredictedPositive = pd.DataFrame(pd.concat([cuttedData[cuttedData == 1], cuttedData[cuttedData == 2]]).sort_index())"
   ]
  },
  {
   "cell_type": "code",
   "execution_count": null,
   "metadata": {},
   "outputs": [],
   "source": [
    "dataPositive = data.iloc[list(pPsPredictedPositive.index),:]"
   ]
  },
  {
   "cell_type": "code",
   "execution_count": null,
   "metadata": {},
   "outputs": [],
   "source": [
    "fig = plt.gcf()\n",
    "fig.set_size_inches(18.5, 8)\n",
    "fig.suptitle(subtitle, fontsize = 20, y = 0.08)\n",
    "ax1 = plt.subplot(2,4,1)\n",
    "ax1.ticklabel_format(style='sci', axis='y', scilimits=(0,0))\n",
    "ax1.hist(dataPositive['rY1'], bins = 100, alpha = 0.5, color = 'green', label = 'Positive data')\n",
    "ax1.tick_params(direction='out', labelsize = 15)"
   ]
  },
  {
   "cell_type": "code",
   "execution_count": 37,
   "metadata": {},
   "outputs": [],
   "source": [
    "dataRec = dataPositive.iloc[:,:16]"
   ]
  },
  {
   "cell_type": "code",
   "execution_count": 40,
   "metadata": {},
   "outputs": [
    {
     "data": {
      "text/plain": [
       "4294957"
      ]
     },
     "execution_count": 40,
     "metadata": {},
     "output_type": "execute_result"
    }
   ],
   "source": [
    "len(dataRec)"
   ]
  },
  {
   "cell_type": "code",
   "execution_count": 39,
   "metadata": {},
   "outputs": [],
   "source": [
    "dataRec.to_csv(pathToFile + 'cutReconstruction', sep = \"\\t\", header = False, index = False)"
   ]
  },
  {
   "cell_type": "code",
   "execution_count": null,
   "metadata": {},
   "outputs": [],
   "source": []
  }
 ],
 "metadata": {
  "kernelspec": {
   "display_name": "Python 3",
   "language": "python",
   "name": "python3"
  },
  "language_info": {
   "codemirror_mode": {
    "name": "ipython",
    "version": 3
   },
   "file_extension": ".py",
   "mimetype": "text/x-python",
   "name": "python",
   "nbconvert_exporter": "python",
   "pygments_lexer": "ipython3",
   "version": "3.6.7"
  }
 },
 "nbformat": 4,
 "nbformat_minor": 2
}
