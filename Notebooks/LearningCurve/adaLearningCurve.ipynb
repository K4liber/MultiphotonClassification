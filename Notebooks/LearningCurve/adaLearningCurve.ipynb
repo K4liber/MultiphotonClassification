{
 "cells": [
  {
   "cell_type": "code",
   "execution_count": 20,
   "metadata": {},
   "outputs": [],
   "source": [
    "import pickle\n",
    "from sklearn.metrics import accuracy_score\n",
    "import numpy as np\n",
    "import pandas as pd\n",
    "import matplotlib.pyplot as plt"
   ]
  },
  {
   "cell_type": "code",
   "execution_count": 13,
   "metadata": {},
   "outputs": [],
   "source": [
    "directory = '/mnt/home/jbielecki1/NEMA/'\n",
    "modelFileName = '/ADA/adaEstimators1000Depth6'\n",
    "\n",
    "model1000 = pickle.load(open(directory + '1000' + modelFileName, 'rb'))\n",
    "X_test1000 = pickle.load(open(directory + '1000/xTest', 'rb'))\n",
    "y_test1000 = pickle.load(open(directory + '1000/yTest', 'rb'))\n",
    "X_train1000 = pickle.load(open(directory + '1000/xTrain', 'rb'))\n",
    "y_train1000 = pickle.load(open(directory + '1000/yTrain', 'rb'))\n",
    "\n",
    "model10000 = pickle.load(open(directory + '10000' + modelFileName, 'rb'))\n",
    "X_test10000 = pickle.load(open(directory + '10000/xTest', 'rb'))\n",
    "y_test10000 = pickle.load(open(directory + '10000/yTest', 'rb'))\n",
    "X_train10000 = pickle.load(open(directory + '10000/xTrain', 'rb'))\n",
    "y_train10000 = pickle.load(open(directory + '10000/yTrain', 'rb'))\n",
    "\n",
    "model100000 = pickle.load(open(directory + '100000' + modelFileName, 'rb'))\n",
    "X_test100000 = pickle.load(open(directory + '100000/xTest', 'rb'))\n",
    "y_test100000 = pickle.load(open(directory + '100000/yTest', 'rb'))\n",
    "X_train100000 = pickle.load(open(directory + '100000/xTrain', 'rb'))\n",
    "y_train100000 = pickle.load(open(directory + '100000/yTrain', 'rb'))\n",
    "\n",
    "model1000000 = pickle.load(open(directory + '1000000' + modelFileName, 'rb'))\n",
    "X_test1000000 = pickle.load(open(directory + '1000000/xTest', 'rb'))\n",
    "y_test1000000 = pickle.load(open(directory + '1000000/yTest', 'rb'))\n",
    "X_train1000000 = pickle.load(open(directory + '1000000/xTrain', 'rb'))\n",
    "y_train1000000 = pickle.load(open(directory + '1000000/yTrain', 'rb'))\n",
    "\n",
    "model10000000 = pickle.load(open(directory + '10000000' + modelFileName, 'rb'))\n",
    "X_test10000000 = pickle.load(open(directory + '10000000/xTest', 'rb'))\n",
    "y_test10000000 = pickle.load(open(directory + '10000000/yTest', 'rb'))\n",
    "X_train10000000 = pickle.load(open(directory + '10000000/xTrain', 'rb'))\n",
    "y_train10000000 = pickle.load(open(directory + '10000000/yTrain', 'rb'))"
   ]
  },
  {
   "cell_type": "code",
   "execution_count": 17,
   "metadata": {},
   "outputs": [],
   "source": [
    "y_pred_test1000 = model1000.predict(X_test1000)\n",
    "y_pred_train1000 = model1000.predict(X_train1000)\n",
    "acc_test1000 = accuracy_score(y_pred_test1000, np.array(y_test1000['newClass']))\n",
    "acc_train1000 = accuracy_score(y_pred_train1000, np.array(y_train1000['newClass']))\n",
    "\n",
    "y_pred_test10000 = model10000.predict(X_test10000)\n",
    "y_pred_train10000 = model10000.predict(X_train10000)\n",
    "acc_test10000 = accuracy_score(y_pred_test10000, np.array(y_test10000['newClass']))\n",
    "acc_train10000 = accuracy_score(y_pred_train10000, np.array(y_train10000['newClass']))\n",
    "\n",
    "y_pred_test100000 = model100000.predict(X_test100000)\n",
    "y_pred_train100000 = model100000.predict(X_train100000)\n",
    "acc_test100000 = accuracy_score(y_pred_test100000, np.array(y_test100000['newClass']))\n",
    "acc_train100000 = accuracy_score(y_pred_train100000, np.array(y_train100000['newClass']))\n",
    "\n",
    "y_pred_test1000000 = model1000000.predict(X_test1000000)\n",
    "y_pred_train1000000 = model1000000.predict(X_train1000000)\n",
    "acc_test1000000 = accuracy_score(y_pred_test1000000, np.array(y_test1000000['newClass']))\n",
    "acc_train1000000 = accuracy_score(y_pred_train1000000, np.array(y_train1000000['newClass']))\n",
    "\n",
    "y_pred_test10000000 = model10000000.predict(X_test10000000)\n",
    "y_pred_train10000000 = model10000000.predict(X_train10000000)\n",
    "acc_test10000000 = accuracy_score(y_pred_test10000000, np.array(y_test10000000['newClass']))\n",
    "acc_train10000000 = accuracy_score(y_pred_train10000000, np.array(y_train10000000['newClass']))"
   ]
  },
  {
   "cell_type": "code",
   "execution_count": 18,
   "metadata": {},
   "outputs": [],
   "source": [
    "set_size = [1000, 10000, 100000, 1000000, 10000000]\n",
    "acc_test = [acc_test1000, acc_test10000, acc_test100000, acc_test1000000, acc_test10000000]\n",
    "acc_train = [acc_train1000, acc_train10000, acc_train100000, acc_train1000000, acc_train10000000]"
   ]
  },
  {
   "cell_type": "code",
   "execution_count": 22,
   "metadata": {},
   "outputs": [
    {
     "data": {
      "image/png": "[encoded data removed]",
      "text/plain": [
       "<Figure size 432x288 with 1 Axes>"
      ]
     },
     "metadata": {
      "needs_background": "light"
     },
     "output_type": "display_data"
    }
   ],
   "source": [
    "plt.tight_layout(pad = 3.2)\n",
    "plt.plot(set_size, acc_train, label = \"dane treningowe\")\n",
    "plt.plot(set_size, acc_test, label = \"dane testowe\")\n",
    "plt.xscale(\"log\")\n",
    "plt.xlabel(\"rozmiar zbioru danych\")\n",
    "plt.ylabel(\"skuteczność [%]\")\n",
    "plt.title(\"ADA - krzywa uczenia\")\n",
    "plt.legend()\n",
    "plt.show()"
   ]
  },
  {
   "cell_type": "code",
   "execution_count": null,
   "metadata": {},
   "outputs": [],
   "source": []
  }
 ],
 "metadata": {
  "kernelspec": {
   "display_name": "Python 3",
   "language": "python",
   "name": "python3"
  },
  "language_info": {
   "codemirror_mode": {
    "name": "ipython",
    "version": 3
   },
   "file_extension": ".py",
   "mimetype": "text/x-python",
   "name": "python",
   "nbconvert_exporter": "python",
   "pygments_lexer": "ipython3",
   "version": "3.6.7"
  }
 },
 "nbformat": 4,
 "nbformat_minor": 2
}
