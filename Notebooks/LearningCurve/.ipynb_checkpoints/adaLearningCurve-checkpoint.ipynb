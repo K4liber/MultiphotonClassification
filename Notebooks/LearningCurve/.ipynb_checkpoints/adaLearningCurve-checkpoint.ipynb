{
 "cells": [
  {
   "cell_type": "code",
   "execution_count": 1,
   "metadata": {},
   "outputs": [],
   "source": [
    "import pickle\n",
    "from sklearn.metrics import accuracy_score\n",
    "import numpy as np\n",
    "import pandas as pd"
   ]
  },
  {
   "cell_type": "code",
   "execution_count": 3,
   "metadata": {},
   "outputs": [],
   "source": [
    "directory = '/mnt/home/jbielecki1/NEMA/'\n",
    "modelFileName = '/ADA/adaEstimators1000Depth6'\n",
    "\n",
    "model1000 = pickle.load(open(directory + '1000' + modelFileName, 'rb'))\n",
    "X_test1000 = pickle.load(open(directory + '1000/xTest', 'rb'))\n",
    "y_test1000 = pickle.load(open(directory + '1000/yTest', 'rb'))\n",
    "X_train1000 = pickle.load(open(directory + '1000/xTrain', 'rb'))\n",
    "y_train1000 = pickle.load(open(directory + '1000/yTrain', 'rb'))\n",
    "\n",
    "model10000 = pickle.load(open(directory + '10000' + modelFileName, 'rb'))\n",
    "X_test10000 = pickle.load(open(directory + '10000/xTest', 'rb'))\n",
    "y_test10000 = pickle.load(open(directory + '10000/yTest', 'rb'))\n",
    "X_train10000 = pickle.load(open(directory + '10000/xTrain', 'rb'))\n",
    "y_train10000 = pickle.load(open(directory + '10000/yTrain', 'rb'))\n",
    "\n",
    "model100000 = pickle.load(open(directory + '100000' + modelFileName, 'rb'))\n",
    "X_test100000 = pickle.load(open(directory + '100000/xTest', 'rb'))\n",
    "y_test100000 = pickle.load(open(directory + '100000/yTest', 'rb'))\n",
    "X_train100000 = pickle.load(open(directory + '100000/xTrain', 'rb'))\n",
    "y_train100000 = pickle.load(open(directory + '100000/yTrain', 'rb'))\n",
    "\n",
    "model1000000 = pickle.load(open(directory + '1000000' + modelFileName, 'rb'))\n",
    "X_test1000000 = pickle.load(open(directory + '1000000/xTest', 'rb'))\n",
    "y_test1000000 = pickle.load(open(directory + '1000000/yTest', 'rb'))\n",
    "X_train1000000 = pickle.load(open(directory + '1000000/xTrain', 'rb'))\n",
    "y_train1000000 = pickle.load(open(directory + '1000000/yTrain', 'rb'))\n",
    "\n",
    "model10000000 = pickle.load(open(directory + '10000000' + modelFileName, 'rb'))\n",
    "X_test10000000 = pickle.load(open(directory + '10000000/xTest', 'rb'))\n",
    "y_test10000000 = pickle.load(open(directory + '10000000/yTest', 'rb'))\n",
    "X_train10000000 = pickle.load(open(directory + '10000000/xTrain', 'rb'))\n",
    "y_train10000000 = pickle.load(open(directory + '10000000/yTrain', 'rb'))"
   ]
  },
  {
   "cell_type": "code",
   "execution_count": 4,
   "metadata": {},
   "outputs": [],
   "source": [
    "y_pred1000 = model1000.predict(X_test1000)\n",
    "acc1000"
   ]
  },
  {
   "cell_type": "code",
   "execution_count": null,
   "metadata": {},
   "outputs": [],
   "source": []
  }
 ],
 "metadata": {
  "kernelspec": {
   "display_name": "Python 3",
   "language": "python",
   "name": "python3"
  },
  "language_info": {
   "codemirror_mode": {
    "name": "ipython",
    "version": 3
   },
   "file_extension": ".py",
   "mimetype": "text/x-python",
   "name": "python",
   "nbconvert_exporter": "python",
   "pygments_lexer": "ipython3",
   "version": "3.6.7"
  }
 },
 "nbformat": 4,
 "nbformat_minor": 2
}
